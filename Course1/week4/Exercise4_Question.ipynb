{
  "nbformat": 4,
  "nbformat_minor": 0,
  "metadata": {
    "colab": {
      "name": "Exercise4-Question.ipynb",
      "version": "0.3.2",
      "provenance": []
    },
    "kernelspec": {
      "name": "python3",
      "display_name": "Python 3"
    },
    "accelerator": "GPU"
  },
  "cells": [
    {
      "cell_type": "markdown",
      "metadata": {
        "id": "UncprnB0ymAE",
        "colab_type": "text"
      },
      "source": [
        "Below is code with a link to a happy or sad dataset which contains 80 images, 40 happy and 40 sad. \n",
        "Create a convolutional neural network that trains to 100% accuracy on these images,  which cancels training upon hitting training accuracy of >.999\n",
        "\n",
        "Hint -- it will work best with 3 convolutional layers."
      ]
    },
    {
      "cell_type": "code",
      "metadata": {
        "id": "7Vti6p3PxmpS",
        "colab_type": "code",
        "colab": {
          "base_uri": "https://localhost:8080/",
          "height": 204
        },
        "outputId": "1f07af4c-7318-479b-fff4-5a13c1d634de"
      },
      "source": [
        "import tensorflow as tf\n",
        "import os\n",
        "import zipfile\n",
        "\n",
        "\n",
        "DESIRED_ACCURACY = 0.999\n",
        "\n",
        "!wget --no-check-certificate \\\n",
        "    \"https://storage.googleapis.com/laurencemoroney-blog.appspot.com/happy-or-sad.zip\" \\\n",
        "    -O \"/tmp/happy-or-sad.zip\"\n",
        "\n",
        "zip_ref = zipfile.ZipFile(\"/tmp/happy-or-sad.zip\", 'r')\n",
        "zip_ref.extractall(\"/tmp/h-or-s\")\n",
        "zip_ref.close()\n",
        "\n",
        "class myCallback(tf.keras.callbacks.Callback): # Your Code):\n",
        "  # Your Code\n",
        "  def on_epoch_end(self, epoch, logs={}):\n",
        "    if(logs.get('acc')>DESIRED_ACCURACY):\n",
        "      print(\"\\nReached 99.9% training accuracy so cancelling training\")\n",
        "      self.model.stop_training = True\n",
        "\n",
        "callbacks = myCallback()"
      ],
      "execution_count": 1,
      "outputs": [
        {
          "output_type": "stream",
          "text": [
            "--2019-07-09 07:19:15--  https://storage.googleapis.com/laurencemoroney-blog.appspot.com/happy-or-sad.zip\n",
            "Resolving storage.googleapis.com (storage.googleapis.com)... 74.125.133.128, 2a00:1450:400c:c0a::80\n",
            "Connecting to storage.googleapis.com (storage.googleapis.com)|74.125.133.128|:443... connected.\n",
            "HTTP request sent, awaiting response... 200 OK\n",
            "Length: 2670333 (2.5M) [application/zip]\n",
            "Saving to: ‘/tmp/happy-or-sad.zip’\n",
            "\n",
            "/tmp/happy-or-sad.z 100%[===================>]   2.55M  --.-KB/s    in 0.02s   \n",
            "\n",
            "2019-07-09 07:19:20 (138 MB/s) - ‘/tmp/happy-or-sad.zip’ saved [2670333/2670333]\n",
            "\n"
          ],
          "name": "stdout"
        }
      ]
    },
    {
      "cell_type": "code",
      "metadata": {
        "id": "4mqFp6b6a0AR",
        "colab_type": "code",
        "colab": {
          "base_uri": "https://localhost:8080/",
          "height": 170
        },
        "outputId": "0fc1db9e-9e19-4c64-fcfe-153cbb7de636"
      },
      "source": [
        "!ls -a /tmp/h-or-s/happy/"
      ],
      "execution_count": 2,
      "outputs": [
        {
          "output_type": "stream",
          "text": [
            ".\t       happy1-07.png  happy1-16.png  happy2-05.png  happy2-14.png\n",
            "..\t       happy1-08.png  happy1-17.png  happy2-06.png  happy2-15.png\n",
            "happy1-00.png  happy1-09.png  happy1-18.png  happy2-07.png  happy2-16.png\n",
            "happy1-01.png  happy1-10.png  happy1-19.png  happy2-08.png  happy2-17.png\n",
            "happy1-02.png  happy1-11.png  happy2-00.png  happy2-09.png  happy2-18.png\n",
            "happy1-03.png  happy1-12.png  happy2-01.png  happy2-10.png  happy2-19.png\n",
            "happy1-04.png  happy1-13.png  happy2-02.png  happy2-11.png\n",
            "happy1-05.png  happy1-14.png  happy2-03.png  happy2-12.png\n",
            "happy1-06.png  happy1-15.png  happy2-04.png  happy2-13.png\n"
          ],
          "name": "stdout"
        }
      ]
    },
    {
      "cell_type": "code",
      "metadata": {
        "id": "Bfgr63gZYL-J",
        "colab_type": "code",
        "colab": {
          "base_uri": "https://localhost:8080/",
          "height": 323
        },
        "outputId": "9b4f6a71-be69-4c21-a21a-b7a4578e2288"
      },
      "source": [
        "# Your Code\n",
        "\"\"\"\n",
        "Get information about images in a folder.\n",
        "\"\"\"\n",
        "from os import listdir\n",
        "from os.path import isfile, join\n",
        "\n",
        "from PIL import Image\n",
        "\n",
        "\n",
        "def print_data(data):\n",
        "  \"\"\"\n",
        "    data : dict\n",
        "  \"\"\"\n",
        "  for k, v in data.items():\n",
        "    print(\"%s:\\t%s\" % (k, v))\n",
        "  print(\"Min width: %i\" % data['min_width'])\n",
        "  print(\"Max width: %i\" % data['max_width'])\n",
        "  print(\"Min height: %i\" % data['min_height'])\n",
        "  print(\"Max height: %i\" % data['max_height'])\n",
        "\n",
        "\n",
        "def print_images_size(path):\n",
        "  \"\"\"\n",
        "  path : str\n",
        "      Path where to look for image files.\n",
        "  \"\"\"\n",
        "  onlyfiles = [join(path,f) for f in listdir(path) if isfile(join(path, f))]\n",
        "  \n",
        "  onlyfiles = [f for f in onlyfiles if f.endswith('.png')]\n",
        "\n",
        "  data = {}\n",
        "  data['images_count'] = len(onlyfiles)\n",
        "  data['min_width'] = 10**100  # No image will be bigger than that\n",
        "  data['max_width'] = 0\n",
        "  data['min_height'] = 10**100  # No image will be bigger than that\n",
        "  data['max_height'] = 0\n",
        "\n",
        "  for filename in onlyfiles:\n",
        "    im = Image.open(filename)\n",
        "    width, height = im.size\n",
        "    data['min_width'] = min(width, data['min_width'])\n",
        "    data['max_width'] = max(width, data['max_height'])\n",
        "    data['min_height'] = min(height, data['min_height'])\n",
        "    data['max_height'] = max(height, data['max_height'])\n",
        "    \n",
        "  print_data(data)\n",
        "  \n",
        "print_images_size(\"/tmp/h-or-s/happy/\")\n",
        "print_images_size(\"/tmp/h-or-s/sad/\")\n",
        "\n",
        "# Your Code"
      ],
      "execution_count": 3,
      "outputs": [
        {
          "output_type": "stream",
          "text": [
            "images_count:\t40\n",
            "min_width:\t150\n",
            "max_width:\t150\n",
            "min_height:\t150\n",
            "max_height:\t150\n",
            "Min width: 150\n",
            "Max width: 150\n",
            "Min height: 150\n",
            "Max height: 150\n",
            "images_count:\t40\n",
            "min_width:\t150\n",
            "max_width:\t150\n",
            "min_height:\t150\n",
            "max_height:\t150\n",
            "Min width: 150\n",
            "Max width: 150\n",
            "Min height: 150\n",
            "Max height: 150\n"
          ],
          "name": "stdout"
        }
      ]
    },
    {
      "cell_type": "code",
      "metadata": {
        "id": "6DLGbXXI1j_V",
        "colab_type": "code",
        "colab": {
          "base_uri": "https://localhost:8080/",
          "height": 156
        },
        "outputId": "f2e3bfa3-6913-4b0a-9487-db0dc7de4d1a"
      },
      "source": [
        "# This Code Block should Define and Compile the Model\n",
        "model = tf.keras.models.Sequential([\n",
        "# Your Code Here\n",
        "    tf.keras.layers.Conv2D(16, (3,3), activation = tf.nn.relu, input_shape=(150,150,3)),\n",
        "    tf.keras.layers.MaxPooling2D(2,2),\n",
        "    tf.keras.layers.Conv2D(32, (3,3), activation = tf.nn.relu),\n",
        "    tf.keras.layers.MaxPooling2D(2,2),\n",
        "    tf.keras.layers.Conv2D(64, (3,3), activation=tf.nn.relu),\n",
        "    tf.keras.layers.MaxPooling2D(2,2),\n",
        "    tf.keras.layers.Flatten(),\n",
        "    tf.keras.layers.Dense(512, activation=tf.nn.relu),\n",
        "    tf.keras.layers.Dense(1, activation=tf.nn.sigmoid)\n",
        "])\n",
        "\n",
        "from tensorflow.keras.optimizers import RMSprop\n",
        "\n",
        "model.compile(optimizer=RMSprop(lr=0.001),loss='binary_crossentropy', metrics=['acc'])# Your Code Here #)"
      ],
      "execution_count": 4,
      "outputs": [
        {
          "output_type": "stream",
          "text": [
            "WARNING: Logging before flag parsing goes to stderr.\n",
            "W0709 07:19:33.303796 140012727052160 deprecation.py:506] From /usr/local/lib/python3.6/dist-packages/tensorflow/python/ops/init_ops.py:1251: calling VarianceScaling.__init__ (from tensorflow.python.ops.init_ops) with dtype is deprecated and will be removed in a future version.\n",
            "Instructions for updating:\n",
            "Call initializer instance with the dtype argument instead of passing it to the constructor\n",
            "W0709 07:19:33.545802 140012727052160 deprecation.py:323] From /usr/local/lib/python3.6/dist-packages/tensorflow/python/ops/nn_impl.py:180: add_dispatch_support.<locals>.wrapper (from tensorflow.python.ops.array_ops) is deprecated and will be removed in a future version.\n",
            "Instructions for updating:\n",
            "Use tf.where in 2.0, which has the same broadcast rule as np.where\n"
          ],
          "name": "stderr"
        }
      ]
    },
    {
      "cell_type": "code",
      "metadata": {
        "id": "ArCh60MjggYX",
        "colab_type": "code",
        "colab": {
          "base_uri": "https://localhost:8080/",
          "height": 459
        },
        "outputId": "81858e0e-4ec1-44db-f4f5-59ece7d8b9fc"
      },
      "source": [
        "model.summary()"
      ],
      "execution_count": 5,
      "outputs": [
        {
          "output_type": "stream",
          "text": [
            "Model: \"sequential\"\n",
            "_________________________________________________________________\n",
            "Layer (type)                 Output Shape              Param #   \n",
            "=================================================================\n",
            "conv2d (Conv2D)              (None, 148, 148, 16)      448       \n",
            "_________________________________________________________________\n",
            "max_pooling2d (MaxPooling2D) (None, 74, 74, 16)        0         \n",
            "_________________________________________________________________\n",
            "conv2d_1 (Conv2D)            (None, 72, 72, 32)        4640      \n",
            "_________________________________________________________________\n",
            "max_pooling2d_1 (MaxPooling2 (None, 36, 36, 32)        0         \n",
            "_________________________________________________________________\n",
            "conv2d_2 (Conv2D)            (None, 34, 34, 64)        18496     \n",
            "_________________________________________________________________\n",
            "max_pooling2d_2 (MaxPooling2 (None, 17, 17, 64)        0         \n",
            "_________________________________________________________________\n",
            "flatten (Flatten)            (None, 18496)             0         \n",
            "_________________________________________________________________\n",
            "dense (Dense)                (None, 512)               9470464   \n",
            "_________________________________________________________________\n",
            "dense_1 (Dense)              (None, 1)                 513       \n",
            "=================================================================\n",
            "Total params: 9,494,561\n",
            "Trainable params: 9,494,561\n",
            "Non-trainable params: 0\n",
            "_________________________________________________________________\n"
          ],
          "name": "stdout"
        }
      ]
    },
    {
      "cell_type": "code",
      "metadata": {
        "id": "4Ap9fUJE1vVu",
        "colab_type": "code",
        "colab": {
          "base_uri": "https://localhost:8080/",
          "height": 34
        },
        "outputId": "c690c11b-5cf9-4ac6-8d4b-20fbd3ea1753"
      },
      "source": [
        "# This code block should create an instance of an ImageDataGenerator called train_datagen \n",
        "# And a train_generator by calling train_datagen.flow_from_directory\n",
        "\n",
        "from tensorflow.keras.preprocessing.image import ImageDataGenerator\n",
        "\n",
        "train_datagen = ImageDataGenerator(rescale=1/255)# Your Code Here\n",
        "\n",
        "train_generator = train_datagen.flow_from_directory(\n",
        "        # Your Code Here)\n",
        "    \"/tmp/h-or-s/\",\n",
        "    target_size=(150,150),\n",
        "    batch_size=16,\n",
        "    class_mode='binary')\n",
        "\n",
        "# Expected output: 'Found 80 images belonging to 2 classes'"
      ],
      "execution_count": 6,
      "outputs": [
        {
          "output_type": "stream",
          "text": [
            "Found 80 images belonging to 2 classes.\n"
          ],
          "name": "stdout"
        }
      ]
    },
    {
      "cell_type": "code",
      "metadata": {
        "id": "48dLm13U1-Le",
        "colab_type": "code",
        "colab": {
          "base_uri": "https://localhost:8080/",
          "height": 323
        },
        "outputId": "9dd564f7-c0aa-4693-dc8f-f057d696b52f"
      },
      "source": [
        "# This code block should call model.fit_generator and train for\n",
        "# a number of epochs. \n",
        "history = model.fit_generator(\n",
        "      # Your Code Here)\n",
        "    train_generator,\n",
        "    steps_per_epoch = 5,\n",
        "    epochs= 15,\n",
        "    callbacks=[callbacks],\n",
        "    verbose=1)\n",
        "# Expected output: \"Reached 99.9% accuracy so cancelling training!\"\""
      ],
      "execution_count": 7,
      "outputs": [
        {
          "output_type": "stream",
          "text": [
            "Epoch 1/15\n",
            "5/5 [==============================] - 4s 761ms/step - loss: 3.5712 - acc: 0.4000\n",
            "Epoch 2/15\n",
            "5/5 [==============================] - 0s 42ms/step - loss: 0.7733 - acc: 0.4625\n",
            "Epoch 3/15\n",
            "5/5 [==============================] - 0s 39ms/step - loss: 0.6282 - acc: 0.6250\n",
            "Epoch 4/15\n",
            "5/5 [==============================] - 0s 37ms/step - loss: 0.6083 - acc: 0.6375\n",
            "Epoch 5/15\n",
            "5/5 [==============================] - 0s 40ms/step - loss: 0.5203 - acc: 0.7750\n",
            "Epoch 6/15\n",
            "5/5 [==============================] - 0s 41ms/step - loss: 0.4322 - acc: 0.8000\n",
            "Epoch 7/15\n",
            "5/5 [==============================] - 0s 37ms/step - loss: 0.3275 - acc: 0.9375\n",
            "Epoch 8/15\n",
            "3/5 [=================>............] - ETA: 0s - loss: 0.1180 - acc: 1.0000\n",
            "Reached 99.9% training accuracy so cancelling training\n",
            "5/5 [==============================] - 0s 39ms/step - loss: 0.0825 - acc: 1.0000\n"
          ],
          "name": "stdout"
        }
      ]
    }
  ]
}