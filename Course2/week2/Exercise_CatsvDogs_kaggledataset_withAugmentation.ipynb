{
  "nbformat": 4,
  "nbformat_minor": 0,
  "metadata": {
    "colab": {
      "name": "Exercise 6 - Question.ipynb",
      "version": "0.3.2",
      "provenance": [],
      "collapsed_sections": []
    },
    "kernelspec": {
      "name": "python3",
      "display_name": "Python 3"
    },
    "accelerator": "GPU"
  },
  "cells": [
    {
      "cell_type": "code",
      "metadata": {
        "id": "dn-6c02VmqiN",
        "colab_type": "code",
        "colab": {}
      },
      "source": [
        "# In this exercise you will train a CNN on the FULL Cats-v-dogs dataset\n",
        "# This will require you doing a lot of data preprocessing because\n",
        "# the dataset isn't split into training and validation for you\n",
        "# This code block has all the required inputs\n",
        "import os\n",
        "import zipfile\n",
        "import random\n",
        "import tensorflow as tf\n",
        "from tensorflow.keras.optimizers import Adam\n",
        "from tensorflow.keras.preprocessing.image import ImageDataGenerator\n",
        "from shutil import copyfile"
      ],
      "execution_count": 0,
      "outputs": []
    },
    {
      "cell_type": "code",
      "metadata": {
        "id": "3sd9dQWa23aj",
        "colab_type": "code",
        "colab": {
          "base_uri": "https://localhost:8080/",
          "height": 204
        },
        "outputId": "160cdeff-4704-4157-837b-e0422a4b3bda"
      },
      "source": [
        "# This code block downloads the full Cats-v-Dogs dataset and stores it as \n",
        "# cats-and-dogs.zip. It then unzips it to /tmp\n",
        "# which will create a tmp/PetImages directory containing subdirectories\n",
        "# called 'Cat' and 'Dog' (that's how the original researchers structured it)\n",
        "# If the URL doesn't work, \n",
        "# .   visit https://www.microsoft.com/en-us/download/confirmation.aspx?id=54765\n",
        "# And right click on the 'Download Manually' link to get a new URL\n",
        "\n",
        "!wget --no-check-certificate \\\n",
        "    \"https://download.microsoft.com/download/3/E/1/3E1C3F21-ECDB-4869-8368-6DEBA77B919F/kagglecatsanddogs_3367a.zip\" \\\n",
        "    -O \"/tmp/cats-and-dogs.zip\"\n",
        "\n",
        "local_zip = '/tmp/cats-and-dogs.zip'\n",
        "zip_ref = zipfile.ZipFile(local_zip, 'r')\n",
        "zip_ref.extractall('/tmp')\n",
        "zip_ref.close()\n"
      ],
      "execution_count": 2,
      "outputs": [
        {
          "output_type": "stream",
          "text": [
            "--2019-07-09 17:52:49--  https://download.microsoft.com/download/3/E/1/3E1C3F21-ECDB-4869-8368-6DEBA77B919F/kagglecatsanddogs_3367a.zip\n",
            "Resolving download.microsoft.com (download.microsoft.com)... 104.87.13.157, 2600:1407:2800:498::e59, 2600:1407:2800:484::e59\n",
            "Connecting to download.microsoft.com (download.microsoft.com)|104.87.13.157|:443... connected.\n",
            "HTTP request sent, awaiting response... 200 OK\n",
            "Length: 824894548 (787M) [application/octet-stream]\n",
            "Saving to: ‘/tmp/cats-and-dogs.zip’\n",
            "\n",
            "/tmp/cats-and-dogs. 100%[===================>] 786.68M   188MB/s    in 4.6s    \n",
            "\n",
            "2019-07-09 17:52:53 (171 MB/s) - ‘/tmp/cats-and-dogs.zip’ saved [824894548/824894548]\n",
            "\n"
          ],
          "name": "stdout"
        }
      ]
    },
    {
      "cell_type": "code",
      "metadata": {
        "id": "gi3yD62a6X3S",
        "colab_type": "code",
        "colab": {
          "base_uri": "https://localhost:8080/",
          "height": 51
        },
        "outputId": "67e2ca9e-a73b-4def-c478-ec6cec87883d"
      },
      "source": [
        "print(len(os.listdir('/tmp/PetImages/Cat/')))\n",
        "print(len(os.listdir('/tmp/PetImages/Dog/')))\n",
        "\n",
        "# Expected Output:\n",
        "# 12501\n",
        "# 12501"
      ],
      "execution_count": 3,
      "outputs": [
        {
          "output_type": "stream",
          "text": [
            "12501\n",
            "12501\n"
          ],
          "name": "stdout"
        }
      ]
    },
    {
      "cell_type": "code",
      "metadata": {
        "id": "F-QkLjxpmyK2",
        "colab_type": "code",
        "colab": {}
      },
      "source": [
        "# Use os.mkdir to create your directories\n",
        "# You will need a directory for cats-v-dogs, and subdirectories for training\n",
        "# and testing. These in turn will need subdirectories for 'cats' and 'dogs'\n",
        "try:\n",
        "    #YOUR CODE GOES HERE\n",
        "    base_dir = \"/tmp/cats-v-dogs\"\n",
        "    os.mkdir(base_dir)\n",
        "    os.mkdir(os.path.join(base_dir,'training'))\n",
        "    os.mkdir(os.path.join(base_dir,'testing'))\n",
        "    os.mkdir(os.path.join(base_dir,'training','cats'))\n",
        "    os.mkdir(os.path.join(base_dir,'training', 'dogs'))\n",
        "    os.mkdir(os.path.join(base_dir,'testing','cats'))\n",
        "    os.mkdir(os.path.join(base_dir,'testing', 'dogs'))   \n",
        "except OSError:\n",
        "    pass"
      ],
      "execution_count": 0,
      "outputs": []
    },
    {
      "cell_type": "code",
      "metadata": {
        "id": "zvSODo0f9LaU",
        "colab_type": "code",
        "colab": {}
      },
      "source": [
        "# Write a python function called split_data which takes\n",
        "# a SOURCE directory containing the files\n",
        "# a TRAINING directory that a portion of the files will be copied to\n",
        "# a TESTING directory that a portion of the files will be copie to\n",
        "# a SPLIT SIZE to determine the portion\n",
        "# The files should also be randomized, so that the training set is a random\n",
        "# X% of the files, and the test set is the remaining files\n",
        "# SO, for example, if SOURCE is PetImages/Cat, and SPLIT SIZE is .9\n",
        "# Then 90% of the images in PetImages/Cat will be copied to the TRAINING dir\n",
        "# and 10% of the images will be copied to the TESTING dir\n",
        "# Also -- All images should be checked, and if they have a zero file length,\n",
        "# they will not be copied over\n",
        "#\n",
        "# os.listdir(DIRECTORY) gives you a listing of the contents of that directory\n",
        "# os.path.getsize(PATH) gives you the size of the file\n",
        "# copyfile(source, destination) copies a file from source to destination\n",
        "# random.sample(list, len(list)) shuffles a list\n",
        "def split_data(SOURCE, TRAINING, TESTING, SPLIT_SIZE):\n",
        "  # YOUR CODE STARTS HERE\n",
        "  # YOUR CODE ENDS HERE\n",
        "  files = os.listdir(SOURCE)\n",
        "  \n",
        "  valid_files = [f for f in files if (os.path.getsize(os.path.join(SOURCE,f))!=0)]\n",
        "  \n",
        "  valid_files = random.sample(valid_files, len(valid_files))\n",
        "  \n",
        "  train_files = valid_files[0:int(len(valid_files)*SPLIT_SIZE)]\n",
        "  \n",
        "  test_files = valid_files[int(len(valid_files)*SPLIT_SIZE): ]\n",
        "  \n",
        "  for f in train_files:\n",
        "    copyfile(os.path.join(SOURCE,f), os.path.join(TRAINING,f))\n",
        "  for f in test_files:\n",
        "    copyfile(os.path.join(SOURCE,f), os.path.join(TESTING,f))\n",
        "\n",
        "\n",
        "CAT_SOURCE_DIR = \"/tmp/PetImages/Cat/\"\n",
        "TRAINING_CATS_DIR = \"/tmp/cats-v-dogs/training/cats/\"\n",
        "TESTING_CATS_DIR = \"/tmp/cats-v-dogs/testing/cats/\"\n",
        "DOG_SOURCE_DIR = \"/tmp/PetImages/Dog/\"\n",
        "TRAINING_DOGS_DIR = \"/tmp/cats-v-dogs/training/dogs/\"\n",
        "TESTING_DOGS_DIR = \"/tmp/cats-v-dogs/testing/dogs/\"\n",
        "\n",
        "split_size = .9\n",
        "split_data(CAT_SOURCE_DIR, TRAINING_CATS_DIR, TESTING_CATS_DIR, split_size)\n",
        "split_data(DOG_SOURCE_DIR, TRAINING_DOGS_DIR, TESTING_DOGS_DIR, split_size)\n",
        "\n",
        "# Expected output\n",
        "# 666.jpg is zero length, so ignoring\n",
        "# 11702.jpg is zero length, so ignoring"
      ],
      "execution_count": 0,
      "outputs": []
    },
    {
      "cell_type": "code",
      "metadata": {
        "id": "luthalB76ufC",
        "colab_type": "code",
        "colab": {
          "base_uri": "https://localhost:8080/",
          "height": 85
        },
        "outputId": "319e8be0-a3c7-428c-fff7-1c399b6ecb0c"
      },
      "source": [
        "print(len(os.listdir('/tmp/cats-v-dogs/training/cats/')))\n",
        "print(len(os.listdir('/tmp/cats-v-dogs/training/dogs/')))\n",
        "print(len(os.listdir('/tmp/cats-v-dogs/testing/cats/')))\n",
        "print(len(os.listdir('/tmp/cats-v-dogs/testing/dogs/')))\n",
        "\n",
        "# Expected output:\n",
        "# 11250\n",
        "# 11250\n",
        "# 1250\n",
        "# 1250"
      ],
      "execution_count": 6,
      "outputs": [
        {
          "output_type": "stream",
          "text": [
            "11250\n",
            "11250\n",
            "1250\n",
            "1250\n"
          ],
          "name": "stdout"
        }
      ]
    },
    {
      "cell_type": "code",
      "metadata": {
        "id": "-BQrav4anTmj",
        "colab_type": "code",
        "colab": {
          "base_uri": "https://localhost:8080/",
          "height": 156
        },
        "outputId": "54f3cac3-a4ec-4d53-b8a2-445fb0adb959"
      },
      "source": [
        "# DEFINE A KERAS MODEL TO CLASSIFY CATS V DOGS\n",
        "# USE AT LEAST 3 CONVOLUTION LAYERS\n",
        "model = tf.keras.models.Sequential([\n",
        "# YOUR CODE HERE\n",
        "    tf.keras.layers.Conv2D(32, (3,3),activation=tf.nn.relu,input_shape=(150, 150,3)),\n",
        "    tf.keras.layers.MaxPooling2D(2,2),\n",
        "    tf.keras.layers.Conv2D(64, (3,3), activation=tf.nn.relu),\n",
        "    tf.keras.layers.MaxPooling2D(2,2),\n",
        "    tf.keras.layers.Conv2D(128, (3,3), activation=tf.nn.relu),\n",
        "    tf.keras.layers.MaxPooling2D(2,2),\n",
        "    tf.keras.layers.Conv2D(128, (3,3), activation=tf.nn.relu),\n",
        "    tf.keras.layers.MaxPooling2D(2,2),\n",
        "    tf.keras.layers.Conv2D(256, (3,3), activation=tf.nn.relu),\n",
        "    tf.keras.layers.MaxPooling2D(2,2),\n",
        "    tf.keras.layers.Flatten(),\n",
        "    tf.keras.layers.Dense(512, activation=tf.nn.relu),\n",
        "    tf.keras.layers.Dense(1, activation=tf.nn.sigmoid)\n",
        "])\n",
        "\n",
        "model.compile(optimizer=Adam(lr=0.001), loss='binary_crossentropy', metrics=['acc'])"
      ],
      "execution_count": 7,
      "outputs": [
        {
          "output_type": "stream",
          "text": [
            "WARNING: Logging before flag parsing goes to stderr.\n",
            "W0709 17:53:19.518840 139623249803136 deprecation.py:506] From /usr/local/lib/python3.6/dist-packages/tensorflow/python/ops/init_ops.py:1251: calling VarianceScaling.__init__ (from tensorflow.python.ops.init_ops) with dtype is deprecated and will be removed in a future version.\n",
            "Instructions for updating:\n",
            "Call initializer instance with the dtype argument instead of passing it to the constructor\n",
            "W0709 17:53:19.763711 139623249803136 deprecation.py:323] From /usr/local/lib/python3.6/dist-packages/tensorflow/python/ops/nn_impl.py:180: add_dispatch_support.<locals>.wrapper (from tensorflow.python.ops.array_ops) is deprecated and will be removed in a future version.\n",
            "Instructions for updating:\n",
            "Use tf.where in 2.0, which has the same broadcast rule as np.where\n"
          ],
          "name": "stderr"
        }
      ]
    },
    {
      "cell_type": "code",
      "metadata": {
        "id": "mlNjoJ5D61N6",
        "colab_type": "code",
        "colab": {
          "base_uri": "https://localhost:8080/",
          "height": 51
        },
        "outputId": "bb1a2c46-8b56-4c9d-e6e1-da9b0e71fc03"
      },
      "source": [
        "TRAINING_DIR = \"/tmp/cats-v-dogs/training\" #YOUR CODE HERE\n",
        "#YOUR CODE HERE\n",
        "train_datagen =  ImageDataGenerator(\n",
        "    rescale=1.0/255. ,\n",
        "    rotation_range=40,\n",
        "    width_shift_range =0.2,\n",
        "    height_shift_range = 0.2,\n",
        "    shear_range = 0.2,\n",
        "    zoom_range = 0.2,\n",
        "    horizontal_flip = True,\n",
        "    fill_mode='nearest'\n",
        ")\n",
        "#YOUR CODE HERE\n",
        "train_generator = train_datagen.flow_from_directory(\n",
        "    TRAINING_DIR,\n",
        "    target_size= (150,150),\n",
        "    batch_size = 125,\n",
        "    class_mode = 'binary'\n",
        ")\n",
        "\n",
        "VALIDATION_DIR = \"/tmp/cats-v-dogs/testing\" #YOUR CODE HERE\n",
        "validation_datagen = ImageDataGenerator(rescale=1.0/255.) #YOUR CODE HERE\n",
        "#YOUR CODE HERE\n",
        "validation_generator = validation_datagen.flow_from_directory(\n",
        "    VALIDATION_DIR,\n",
        "    target_size=(150,150),\n",
        "    batch_size = 25,\n",
        "    class_mode='binary'\n",
        ")\n",
        "\n",
        "\n",
        "\n",
        "# Expected Output:\n",
        "# Found 22498 images belonging to 2 classes.\n",
        "# Found 2500 images belonging to 2 classes."
      ],
      "execution_count": 8,
      "outputs": [
        {
          "output_type": "stream",
          "text": [
            "Found 22499 images belonging to 2 classes.\n",
            "Found 2499 images belonging to 2 classes.\n"
          ],
          "name": "stdout"
        }
      ]
    },
    {
      "cell_type": "code",
      "metadata": {
        "id": "KyS4n53w7DxC",
        "colab_type": "code",
        "colab": {
          "base_uri": "https://localhost:8080/",
          "height": 1000
        },
        "outputId": "a8a0d112-14df-4cf2-b3b5-4c5eef2d2555"
      },
      "source": [
        "history = model.fit_generator(train_generator,\n",
        "                              steps_per_epoch=90,\n",
        "                              epochs=100,\n",
        "                              verbose=1,\n",
        "                              validation_data=validation_generator,\n",
        "                              validation_steps = 50)\n",
        "\n",
        "# The expectation here is that the model will train, and that accuracy will be > 95% on both training and validation\n",
        "# i.e. acc:A1 and val_acc:A2 will be visible, and both A1 and A2 will be > .9"
      ],
      "execution_count": 9,
      "outputs": [
        {
          "output_type": "stream",
          "text": [
            "Epoch 1/100\n",
            "26/90 [=======>......................] - ETA: 55s - loss: 0.6962 - acc: 0.5094"
          ],
          "name": "stdout"
        },
        {
          "output_type": "stream",
          "text": [
            "/usr/local/lib/python3.6/dist-packages/PIL/TiffImagePlugin.py:725: UserWarning: Possibly corrupt EXIF data.  Expecting to read 18350080 bytes but only got 0. Skipping tag 0\n",
            "  \" Skipping tag %s\" % (size, len(data), tag))\n",
            "/usr/local/lib/python3.6/dist-packages/PIL/TiffImagePlugin.py:742: UserWarning: Corrupt EXIF data.  Expecting to read 12 bytes but only got 6. \n",
            "  warnings.warn(str(msg))\n"
          ],
          "name": "stderr"
        },
        {
          "output_type": "stream",
          "text": [
            "45/90 [==============>...............] - ETA: 38s - loss: 0.6946 - acc: 0.5121"
          ],
          "name": "stdout"
        },
        {
          "output_type": "stream",
          "text": [
            "/usr/local/lib/python3.6/dist-packages/PIL/TiffImagePlugin.py:725: UserWarning: Possibly corrupt EXIF data.  Expecting to read 32 bytes but only got 0. Skipping tag 270\n",
            "  \" Skipping tag %s\" % (size, len(data), tag))\n",
            "/usr/local/lib/python3.6/dist-packages/PIL/TiffImagePlugin.py:725: UserWarning: Possibly corrupt EXIF data.  Expecting to read 5 bytes but only got 0. Skipping tag 271\n",
            "  \" Skipping tag %s\" % (size, len(data), tag))\n",
            "/usr/local/lib/python3.6/dist-packages/PIL/TiffImagePlugin.py:725: UserWarning: Possibly corrupt EXIF data.  Expecting to read 8 bytes but only got 0. Skipping tag 272\n",
            "  \" Skipping tag %s\" % (size, len(data), tag))\n",
            "/usr/local/lib/python3.6/dist-packages/PIL/TiffImagePlugin.py:725: UserWarning: Possibly corrupt EXIF data.  Expecting to read 8 bytes but only got 0. Skipping tag 282\n",
            "  \" Skipping tag %s\" % (size, len(data), tag))\n",
            "/usr/local/lib/python3.6/dist-packages/PIL/TiffImagePlugin.py:725: UserWarning: Possibly corrupt EXIF data.  Expecting to read 8 bytes but only got 0. Skipping tag 283\n",
            "  \" Skipping tag %s\" % (size, len(data), tag))\n",
            "/usr/local/lib/python3.6/dist-packages/PIL/TiffImagePlugin.py:725: UserWarning: Possibly corrupt EXIF data.  Expecting to read 20 bytes but only got 0. Skipping tag 306\n",
            "  \" Skipping tag %s\" % (size, len(data), tag))\n",
            "/usr/local/lib/python3.6/dist-packages/PIL/TiffImagePlugin.py:725: UserWarning: Possibly corrupt EXIF data.  Expecting to read 48 bytes but only got 0. Skipping tag 532\n",
            "  \" Skipping tag %s\" % (size, len(data), tag))\n",
            "/usr/local/lib/python3.6/dist-packages/PIL/TiffImagePlugin.py:742: UserWarning: Corrupt EXIF data.  Expecting to read 2 bytes but only got 0. \n",
            "  warnings.warn(str(msg))\n"
          ],
          "name": "stderr"
        },
        {
          "output_type": "stream",
          "text": [
            "82/90 [==========================>...] - ETA: 6s - loss: 0.6931 - acc: 0.5114"
          ],
          "name": "stdout"
        },
        {
          "output_type": "stream",
          "text": [
            "/usr/local/lib/python3.6/dist-packages/PIL/TiffImagePlugin.py:725: UserWarning: Possibly corrupt EXIF data.  Expecting to read 262146 bytes but only got 0. Skipping tag 2\n",
            "  \" Skipping tag %s\" % (size, len(data), tag))\n",
            "/usr/local/lib/python3.6/dist-packages/PIL/TiffImagePlugin.py:725: UserWarning: Possibly corrupt EXIF data.  Expecting to read 262151 bytes but only got 0. Skipping tag 56\n",
            "  \" Skipping tag %s\" % (size, len(data), tag))\n",
            "/usr/local/lib/python3.6/dist-packages/PIL/TiffImagePlugin.py:742: UserWarning: Corrupt EXIF data.  Expecting to read 12 bytes but only got 0. \n",
            "  warnings.warn(str(msg))\n"
          ],
          "name": "stderr"
        },
        {
          "output_type": "stream",
          "text": [
            "89/90 [============================>.] - ETA: 0s - loss: 0.6927 - acc: 0.5118"
          ],
          "name": "stdout"
        },
        {
          "output_type": "stream",
          "text": [
            "/usr/local/lib/python3.6/dist-packages/PIL/TiffImagePlugin.py:725: UserWarning: Possibly corrupt EXIF data.  Expecting to read 80000 bytes but only got 0. Skipping tag 64640\n",
            "  \" Skipping tag %s\" % (size, len(data), tag))\n",
            "/usr/local/lib/python3.6/dist-packages/PIL/TiffImagePlugin.py:725: UserWarning: Possibly corrupt EXIF data.  Expecting to read 65536 bytes but only got 0. Skipping tag 3\n",
            "  \" Skipping tag %s\" % (size, len(data), tag))\n",
            "/usr/local/lib/python3.6/dist-packages/PIL/TiffImagePlugin.py:725: UserWarning: Possibly corrupt EXIF data.  Expecting to read 404094976 bytes but only got 0. Skipping tag 5\n",
            "  \" Skipping tag %s\" % (size, len(data), tag))\n",
            "/usr/local/lib/python3.6/dist-packages/PIL/TiffImagePlugin.py:725: UserWarning: Possibly corrupt EXIF data.  Expecting to read 404619264 bytes but only got 0. Skipping tag 5\n",
            "  \" Skipping tag %s\" % (size, len(data), tag))\n",
            "/usr/local/lib/python3.6/dist-packages/PIL/TiffImagePlugin.py:725: UserWarning: Possibly corrupt EXIF data.  Expecting to read 131072 bytes but only got 0. Skipping tag 3\n",
            "  \" Skipping tag %s\" % (size, len(data), tag))\n",
            "/usr/local/lib/python3.6/dist-packages/PIL/TiffImagePlugin.py:725: UserWarning: Possibly corrupt EXIF data.  Expecting to read 425459712 bytes but only got 0. Skipping tag 4\n",
            "  \" Skipping tag %s\" % (size, len(data), tag))\n",
            "/usr/local/lib/python3.6/dist-packages/PIL/TiffImagePlugin.py:725: UserWarning: Possibly corrupt EXIF data.  Expecting to read 1385474 bytes but only got 6833. Skipping tag 513\n",
            "  \" Skipping tag %s\" % (size, len(data), tag))\n",
            "/usr/local/lib/python3.6/dist-packages/PIL/TiffImagePlugin.py:725: UserWarning: Possibly corrupt EXIF data.  Expecting to read 3846701056 bytes but only got 0. Skipping tag 2\n",
            "  \" Skipping tag %s\" % (size, len(data), tag))\n",
            "/usr/local/lib/python3.6/dist-packages/PIL/TiffImagePlugin.py:725: UserWarning: Possibly corrupt EXIF data.  Expecting to read 3300917248 bytes but only got 0. Skipping tag 7\n",
            "  \" Skipping tag %s\" % (size, len(data), tag))\n",
            "/usr/local/lib/python3.6/dist-packages/PIL/TiffImagePlugin.py:725: UserWarning: Possibly corrupt EXIF data.  Expecting to read 196867 bytes but only got 6833. Skipping tag 0\n",
            "  \" Skipping tag %s\" % (size, len(data), tag))\n",
            "/usr/local/lib/python3.6/dist-packages/PIL/TiffImagePlugin.py:742: UserWarning: Corrupt EXIF data.  Expecting to read 12 bytes but only got 8. \n",
            "  warnings.warn(str(msg))\n"
          ],
          "name": "stderr"
        },
        {
          "output_type": "stream",
          "text": [
            "90/90 [==============================] - 82s 914ms/step - loss: 0.6926 - acc: 0.5124 - val_loss: 0.6828 - val_acc: 0.5248\n",
            "Epoch 2/100\n",
            "35/90 [==========>...................] - ETA: 41s - loss: 0.6862 - acc: 0.5522"
          ],
          "name": "stdout"
        },
        {
          "output_type": "stream",
          "text": [
            "/usr/local/lib/python3.6/dist-packages/PIL/TiffImagePlugin.py:725: UserWarning: Possibly corrupt EXIF data.  Expecting to read 307363840 bytes but only got 0. Skipping tag 5\n",
            "  \" Skipping tag %s\" % (size, len(data), tag))\n",
            "/usr/local/lib/python3.6/dist-packages/PIL/TiffImagePlugin.py:725: UserWarning: Possibly corrupt EXIF data.  Expecting to read 307888128 bytes but only got 0. Skipping tag 5\n",
            "  \" Skipping tag %s\" % (size, len(data), tag))\n",
            "/usr/local/lib/python3.6/dist-packages/PIL/TiffImagePlugin.py:725: UserWarning: Possibly corrupt EXIF data.  Expecting to read 328728576 bytes but only got 0. Skipping tag 4\n",
            "  \" Skipping tag %s\" % (size, len(data), tag))\n",
            "/usr/local/lib/python3.6/dist-packages/PIL/TiffImagePlugin.py:725: UserWarning: Possibly corrupt EXIF data.  Expecting to read 1385474 bytes but only got 5357. Skipping tag 513\n",
            "  \" Skipping tag %s\" % (size, len(data), tag))\n",
            "/usr/local/lib/python3.6/dist-packages/PIL/TiffImagePlugin.py:725: UserWarning: Possibly corrupt EXIF data.  Expecting to read 196867 bytes but only got 5357. Skipping tag 0\n",
            "  \" Skipping tag %s\" % (size, len(data), tag))\n"
          ],
          "name": "stderr"
        },
        {
          "output_type": "stream",
          "text": [
            "41/90 [============>.................] - ETA: 37s - loss: 0.6844 - acc: 0.5557"
          ],
          "name": "stdout"
        },
        {
          "output_type": "stream",
          "text": [
            "/usr/local/lib/python3.6/dist-packages/PIL/TiffImagePlugin.py:725: UserWarning: Possibly corrupt EXIF data.  Expecting to read 6553600 bytes but only got 0. Skipping tag 49\n",
            "  \" Skipping tag %s\" % (size, len(data), tag))\n",
            "/usr/local/lib/python3.6/dist-packages/PIL/TiffImagePlugin.py:725: UserWarning: Possibly corrupt EXIF data.  Expecting to read 1050744 bytes but only got 4951. Skipping tag 51\n",
            "  \" Skipping tag %s\" % (size, len(data), tag))\n",
            "/usr/local/lib/python3.6/dist-packages/PIL/TiffImagePlugin.py:725: UserWarning: Possibly corrupt EXIF data.  Expecting to read 293339136 bytes but only got 0. Skipping tag 5\n",
            "  \" Skipping tag %s\" % (size, len(data), tag))\n",
            "/usr/local/lib/python3.6/dist-packages/PIL/TiffImagePlugin.py:725: UserWarning: Possibly corrupt EXIF data.  Expecting to read 293863424 bytes but only got 0. Skipping tag 5\n",
            "  \" Skipping tag %s\" % (size, len(data), tag))\n",
            "/usr/local/lib/python3.6/dist-packages/PIL/TiffImagePlugin.py:725: UserWarning: Possibly corrupt EXIF data.  Expecting to read 3368026112 bytes but only got 0. Skipping tag 7\n",
            "  \" Skipping tag %s\" % (size, len(data), tag))\n",
            "/usr/local/lib/python3.6/dist-packages/PIL/TiffImagePlugin.py:725: UserWarning: Possibly corrupt EXIF data.  Expecting to read 134479872 bytes but only got 0. Skipping tag 7\n",
            "  \" Skipping tag %s\" % (size, len(data), tag))\n",
            "/usr/local/lib/python3.6/dist-packages/PIL/TiffImagePlugin.py:725: UserWarning: Possibly corrupt EXIF data.  Expecting to read 295698432 bytes but only got 0. Skipping tag 10\n",
            "  \" Skipping tag %s\" % (size, len(data), tag))\n",
            "/usr/local/lib/python3.6/dist-packages/PIL/TiffImagePlugin.py:725: UserWarning: Possibly corrupt EXIF data.  Expecting to read 296222720 bytes but only got 0. Skipping tag 5\n",
            "  \" Skipping tag %s\" % (size, len(data), tag))\n",
            "/usr/local/lib/python3.6/dist-packages/PIL/TiffImagePlugin.py:725: UserWarning: Possibly corrupt EXIF data.  Expecting to read 14745600 bytes but only got 0. Skipping tag 4\n",
            "  \" Skipping tag %s\" % (size, len(data), tag))\n",
            "/usr/local/lib/python3.6/dist-packages/PIL/TiffImagePlugin.py:725: UserWarning: Possibly corrupt EXIF data.  Expecting to read 25624576 bytes but only got 0. Skipping tag 4\n",
            "  \" Skipping tag %s\" % (size, len(data), tag))\n",
            "/usr/local/lib/python3.6/dist-packages/PIL/TiffImagePlugin.py:725: UserWarning: Possibly corrupt EXIF data.  Expecting to read 317718528 bytes but only got 4956. Skipping tag 4\n",
            "  \" Skipping tag %s\" % (size, len(data), tag))\n",
            "/usr/local/lib/python3.6/dist-packages/PIL/TiffImagePlugin.py:725: UserWarning: Possibly corrupt EXIF data.  Expecting to read 131073 bytes but only got 4952. Skipping tag 0\n",
            "  \" Skipping tag %s\" % (size, len(data), tag))\n",
            "/usr/local/lib/python3.6/dist-packages/PIL/TiffImagePlugin.py:725: UserWarning: Possibly corrupt EXIF data.  Expecting to read 393216 bytes but only got 0. Skipping tag 3\n",
            "  \" Skipping tag %s\" % (size, len(data), tag))\n",
            "/usr/local/lib/python3.6/dist-packages/PIL/TiffImagePlugin.py:725: UserWarning: Possibly corrupt EXIF data.  Expecting to read 287178752 bytes but only got 0. Skipping tag 5\n",
            "  \" Skipping tag %s\" % (size, len(data), tag))\n",
            "/usr/local/lib/python3.6/dist-packages/PIL/TiffImagePlugin.py:725: UserWarning: Possibly corrupt EXIF data.  Expecting to read 287703040 bytes but only got 0. Skipping tag 5\n",
            "  \" Skipping tag %s\" % (size, len(data), tag))\n",
            "/usr/local/lib/python3.6/dist-packages/PIL/TiffImagePlugin.py:725: UserWarning: Possibly corrupt EXIF data.  Expecting to read 524288 bytes but only got 0. Skipping tag 4\n",
            "  \" Skipping tag %s\" % (size, len(data), tag))\n",
            "/usr/local/lib/python3.6/dist-packages/PIL/TiffImagePlugin.py:725: UserWarning: Possibly corrupt EXIF data.  Expecting to read 286654464 bytes but only got 4956. Skipping tag 4\n",
            "  \" Skipping tag %s\" % (size, len(data), tag))\n",
            "/usr/local/lib/python3.6/dist-packages/PIL/TiffImagePlugin.py:742: UserWarning: Corrupt EXIF data.  Expecting to read 12 bytes but only got 2. \n",
            "  warnings.warn(str(msg))\n"
          ],
          "name": "stderr"
        },
        {
          "output_type": "stream",
          "text": [
            "62/90 [===================>..........] - ETA: 22s - loss: 0.6817 - acc: 0.5528"
          ],
          "name": "stdout"
        },
        {
          "output_type": "stream",
          "text": [
            "/usr/local/lib/python3.6/dist-packages/PIL/TiffImagePlugin.py:725: UserWarning: Possibly corrupt EXIF data.  Expecting to read 209715200 bytes but only got 0. Skipping tag 48\n",
            "  \" Skipping tag %s\" % (size, len(data), tag))\n",
            "/usr/local/lib/python3.6/dist-packages/PIL/TiffImagePlugin.py:725: UserWarning: Possibly corrupt EXIF data.  Expecting to read 52428800 bytes but only got 0. Skipping tag 0\n",
            "  \" Skipping tag %s\" % (size, len(data), tag))\n",
            "/usr/local/lib/python3.6/dist-packages/PIL/TiffImagePlugin.py:725: UserWarning: Possibly corrupt EXIF data.  Expecting to read 6468665344 bytes but only got 0. Skipping tag 0\n",
            "  \" Skipping tag %s\" % (size, len(data), tag))\n",
            "/usr/local/lib/python3.6/dist-packages/PIL/TiffImagePlugin.py:725: UserWarning: Possibly corrupt EXIF data.  Expecting to read 1050744 bytes but only got 7027. Skipping tag 48\n",
            "  \" Skipping tag %s\" % (size, len(data), tag))\n",
            "/usr/local/lib/python3.6/dist-packages/PIL/TiffImagePlugin.py:725: UserWarning: Possibly corrupt EXIF data.  Expecting to read 422313984 bytes but only got 0. Skipping tag 5\n",
            "  \" Skipping tag %s\" % (size, len(data), tag))\n",
            "/usr/local/lib/python3.6/dist-packages/PIL/TiffImagePlugin.py:725: UserWarning: Possibly corrupt EXIF data.  Expecting to read 422838272 bytes but only got 0. Skipping tag 5\n",
            "  \" Skipping tag %s\" % (size, len(data), tag))\n",
            "/usr/local/lib/python3.6/dist-packages/PIL/TiffImagePlugin.py:725: UserWarning: Possibly corrupt EXIF data.  Expecting to read 428867584 bytes but only got 0. Skipping tag 10\n",
            "  \" Skipping tag %s\" % (size, len(data), tag))\n",
            "/usr/local/lib/python3.6/dist-packages/PIL/TiffImagePlugin.py:725: UserWarning: Possibly corrupt EXIF data.  Expecting to read 429391872 bytes but only got 0. Skipping tag 5\n",
            "  \" Skipping tag %s\" % (size, len(data), tag))\n",
            "/usr/local/lib/python3.6/dist-packages/PIL/TiffImagePlugin.py:725: UserWarning: Possibly corrupt EXIF data.  Expecting to read 2031616 bytes but only got 0. Skipping tag 3\n",
            "  \" Skipping tag %s\" % (size, len(data), tag))\n",
            "/usr/local/lib/python3.6/dist-packages/PIL/TiffImagePlugin.py:725: UserWarning: Possibly corrupt EXIF data.  Expecting to read 429916160 bytes but only got 0. Skipping tag 5\n",
            "  \" Skipping tag %s\" % (size, len(data), tag))\n",
            "/usr/local/lib/python3.6/dist-packages/PIL/TiffImagePlugin.py:725: UserWarning: Possibly corrupt EXIF data.  Expecting to read 21299200 bytes but only got 0. Skipping tag 4\n",
            "  \" Skipping tag %s\" % (size, len(data), tag))\n",
            "/usr/local/lib/python3.6/dist-packages/PIL/TiffImagePlugin.py:725: UserWarning: Possibly corrupt EXIF data.  Expecting to read 24313856 bytes but only got 0. Skipping tag 4\n",
            "  \" Skipping tag %s\" % (size, len(data), tag))\n",
            "/usr/local/lib/python3.6/dist-packages/PIL/TiffImagePlugin.py:725: UserWarning: Possibly corrupt EXIF data.  Expecting to read 453771264 bytes but only got 7032. Skipping tag 4\n",
            "  \" Skipping tag %s\" % (size, len(data), tag))\n",
            "/usr/local/lib/python3.6/dist-packages/PIL/TiffImagePlugin.py:725: UserWarning: Possibly corrupt EXIF data.  Expecting to read 131073 bytes but only got 7028. Skipping tag 0\n",
            "  \" Skipping tag %s\" % (size, len(data), tag))\n",
            "/usr/local/lib/python3.6/dist-packages/PIL/TiffImagePlugin.py:725: UserWarning: Possibly corrupt EXIF data.  Expecting to read 416415744 bytes but only got 0. Skipping tag 5\n",
            "  \" Skipping tag %s\" % (size, len(data), tag))\n",
            "/usr/local/lib/python3.6/dist-packages/PIL/TiffImagePlugin.py:725: UserWarning: Possibly corrupt EXIF data.  Expecting to read 416940032 bytes but only got 0. Skipping tag 5\n",
            "  \" Skipping tag %s\" % (size, len(data), tag))\n",
            "/usr/local/lib/python3.6/dist-packages/PIL/TiffImagePlugin.py:725: UserWarning: Possibly corrupt EXIF data.  Expecting to read 415825920 bytes but only got 7032. Skipping tag 4\n",
            "  \" Skipping tag %s\" % (size, len(data), tag))\n"
          ],
          "name": "stderr"
        },
        {
          "output_type": "stream",
          "text": [
            "90/90 [==============================] - 78s 865ms/step - loss: 0.6794 - acc: 0.5604 - val_loss: 0.6479 - val_acc: 0.6416\n",
            "Epoch 3/100\n",
            "90/90 [==============================] - 77s 860ms/step - loss: 0.6611 - acc: 0.6041 - val_loss: 0.6516 - val_acc: 0.6224\n",
            "Epoch 4/100\n",
            "90/90 [==============================] - 77s 859ms/step - loss: 0.6371 - acc: 0.6396 - val_loss: 0.6162 - val_acc: 0.6600\n",
            "Epoch 5/100\n",
            "90/90 [==============================] - 77s 858ms/step - loss: 0.6192 - acc: 0.6593 - val_loss: 0.5737 - val_acc: 0.6984\n",
            "Epoch 6/100\n",
            "90/90 [==============================] - 77s 859ms/step - loss: 0.5983 - acc: 0.6793 - val_loss: 0.5920 - val_acc: 0.6880\n",
            "Epoch 7/100\n",
            "90/90 [==============================] - 77s 856ms/step - loss: 0.5731 - acc: 0.7057 - val_loss: 0.5308 - val_acc: 0.7496\n",
            "Epoch 8/100\n",
            "90/90 [==============================] - 77s 853ms/step - loss: 0.5458 - acc: 0.7213 - val_loss: 0.5078 - val_acc: 0.7640\n",
            "Epoch 9/100\n",
            "90/90 [==============================] - 77s 853ms/step - loss: 0.5368 - acc: 0.7280 - val_loss: 0.4855 - val_acc: 0.7696\n",
            "Epoch 10/100\n",
            "90/90 [==============================] - 77s 860ms/step - loss: 0.5126 - acc: 0.7502 - val_loss: 0.5369 - val_acc: 0.7480\n",
            "Epoch 11/100\n",
            "90/90 [==============================] - 77s 857ms/step - loss: 0.4975 - acc: 0.7597 - val_loss: 0.4168 - val_acc: 0.8128\n",
            "Epoch 12/100\n",
            "90/90 [==============================] - 77s 856ms/step - loss: 0.4813 - acc: 0.7661 - val_loss: 0.4080 - val_acc: 0.8232\n",
            "Epoch 13/100\n",
            "90/90 [==============================] - 78s 862ms/step - loss: 0.4793 - acc: 0.7689 - val_loss: 0.3756 - val_acc: 0.8400\n",
            "Epoch 14/100\n",
            "90/90 [==============================] - 78s 865ms/step - loss: 0.4298 - acc: 0.8050 - val_loss: 0.3973 - val_acc: 0.8176\n",
            "Epoch 15/100\n",
            "90/90 [==============================] - 78s 863ms/step - loss: 0.4312 - acc: 0.7997 - val_loss: 0.3458 - val_acc: 0.8488\n",
            "Epoch 16/100\n",
            "90/90 [==============================] - 77s 861ms/step - loss: 0.4006 - acc: 0.8149 - val_loss: 0.3332 - val_acc: 0.8480\n",
            "Epoch 17/100\n",
            "90/90 [==============================] - 77s 861ms/step - loss: 0.3805 - acc: 0.8280 - val_loss: 0.3398 - val_acc: 0.8512\n",
            "Epoch 18/100\n",
            "90/90 [==============================] - 78s 865ms/step - loss: 0.3784 - acc: 0.8262 - val_loss: 0.2796 - val_acc: 0.8760\n",
            "Epoch 19/100\n",
            "90/90 [==============================] - 77s 850ms/step - loss: 0.3431 - acc: 0.8456 - val_loss: 0.2853 - val_acc: 0.8784\n",
            "Epoch 20/100\n",
            "90/90 [==============================] - 76s 839ms/step - loss: 0.3463 - acc: 0.8428 - val_loss: 0.2560 - val_acc: 0.8848\n",
            "Epoch 21/100\n",
            "90/90 [==============================] - 76s 841ms/step - loss: 0.3194 - acc: 0.8568 - val_loss: 0.2434 - val_acc: 0.8944\n",
            "Epoch 22/100\n",
            "90/90 [==============================] - 76s 839ms/step - loss: 0.3237 - acc: 0.8547 - val_loss: 0.2600 - val_acc: 0.8816\n",
            "Epoch 23/100\n",
            "90/90 [==============================] - 75s 837ms/step - loss: 0.3171 - acc: 0.8580 - val_loss: 0.2688 - val_acc: 0.8888\n",
            "Epoch 24/100\n",
            "90/90 [==============================] - 76s 841ms/step - loss: 0.3028 - acc: 0.8645 - val_loss: 0.2957 - val_acc: 0.8608\n",
            "Epoch 25/100\n",
            "90/90 [==============================] - 75s 838ms/step - loss: 0.2888 - acc: 0.8732 - val_loss: 0.2457 - val_acc: 0.8848\n",
            "Epoch 26/100\n",
            "90/90 [==============================] - 76s 841ms/step - loss: 0.3080 - acc: 0.8614 - val_loss: 0.2715 - val_acc: 0.8776\n",
            "Epoch 27/100\n",
            "90/90 [==============================] - 75s 839ms/step - loss: 0.2816 - acc: 0.8763 - val_loss: 0.2914 - val_acc: 0.8688\n",
            "Epoch 28/100\n",
            "90/90 [==============================] - 75s 839ms/step - loss: 0.2799 - acc: 0.8772 - val_loss: 0.2553 - val_acc: 0.8912\n",
            "Epoch 29/100\n",
            "90/90 [==============================] - 75s 838ms/step - loss: 0.2754 - acc: 0.8786 - val_loss: 0.2131 - val_acc: 0.9048\n",
            "Epoch 30/100\n",
            "90/90 [==============================] - 76s 843ms/step - loss: 0.2621 - acc: 0.8823 - val_loss: 0.2343 - val_acc: 0.8936\n",
            "Epoch 31/100\n",
            "90/90 [==============================] - 75s 838ms/step - loss: 0.2743 - acc: 0.8791 - val_loss: 0.2173 - val_acc: 0.9032\n",
            "Epoch 32/100\n",
            "90/90 [==============================] - 76s 840ms/step - loss: 0.2528 - acc: 0.8889 - val_loss: 0.2383 - val_acc: 0.8904\n",
            "Epoch 33/100\n",
            "90/90 [==============================] - 75s 839ms/step - loss: 0.2665 - acc: 0.8791 - val_loss: 0.2301 - val_acc: 0.9072\n",
            "Epoch 34/100\n",
            "90/90 [==============================] - 76s 844ms/step - loss: 0.2524 - acc: 0.8918 - val_loss: 0.2242 - val_acc: 0.8984\n",
            "Epoch 35/100\n",
            "90/90 [==============================] - 75s 839ms/step - loss: 0.2478 - acc: 0.8955 - val_loss: 0.2293 - val_acc: 0.9032\n",
            "Epoch 36/100\n",
            "90/90 [==============================] - 75s 838ms/step - loss: 0.2490 - acc: 0.8932 - val_loss: 0.2114 - val_acc: 0.9040\n",
            "Epoch 37/100\n",
            "90/90 [==============================] - 75s 836ms/step - loss: 0.2321 - acc: 0.8987 - val_loss: 0.2051 - val_acc: 0.9096\n",
            "Epoch 38/100\n",
            "90/90 [==============================] - 76s 842ms/step - loss: 0.2353 - acc: 0.8975 - val_loss: 0.2356 - val_acc: 0.9048\n",
            "Epoch 39/100\n",
            "90/90 [==============================] - 76s 840ms/step - loss: 0.2373 - acc: 0.8968 - val_loss: 0.2348 - val_acc: 0.8912\n",
            "Epoch 40/100\n",
            "90/90 [==============================] - 75s 839ms/step - loss: 0.2385 - acc: 0.8947 - val_loss: 0.2488 - val_acc: 0.8824\n",
            "Epoch 41/100\n",
            "90/90 [==============================] - 75s 837ms/step - loss: 0.2361 - acc: 0.8958 - val_loss: 0.2137 - val_acc: 0.9120\n",
            "Epoch 42/100\n",
            "90/90 [==============================] - 75s 839ms/step - loss: 0.2261 - acc: 0.9005 - val_loss: 0.2065 - val_acc: 0.9056\n",
            "Epoch 43/100\n",
            "90/90 [==============================] - 75s 838ms/step - loss: 0.2205 - acc: 0.9070 - val_loss: 0.2010 - val_acc: 0.9184\n",
            "Epoch 44/100\n",
            "90/90 [==============================] - 75s 839ms/step - loss: 0.2284 - acc: 0.9040 - val_loss: 0.1823 - val_acc: 0.9224\n",
            "Epoch 45/100\n",
            "90/90 [==============================] - 76s 843ms/step - loss: 0.2227 - acc: 0.9019 - val_loss: 0.2098 - val_acc: 0.9000\n",
            "Epoch 46/100\n",
            "90/90 [==============================] - 76s 843ms/step - loss: 0.2111 - acc: 0.9065 - val_loss: 0.2124 - val_acc: 0.9088\n",
            "Epoch 47/100\n",
            "90/90 [==============================] - 76s 839ms/step - loss: 0.2091 - acc: 0.9116 - val_loss: 0.1781 - val_acc: 0.9280\n",
            "Epoch 48/100\n",
            "90/90 [==============================] - 75s 838ms/step - loss: 0.2234 - acc: 0.9052 - val_loss: 0.2782 - val_acc: 0.8800\n",
            "Epoch 49/100\n",
            "90/90 [==============================] - 76s 845ms/step - loss: 0.2216 - acc: 0.9052 - val_loss: 0.2156 - val_acc: 0.9024\n",
            "Epoch 50/100\n",
            "90/90 [==============================] - 76s 842ms/step - loss: 0.2194 - acc: 0.9052 - val_loss: 0.1838 - val_acc: 0.9224\n",
            "Epoch 51/100\n",
            "90/90 [==============================] - 76s 841ms/step - loss: 0.2235 - acc: 0.9020 - val_loss: 0.1770 - val_acc: 0.9248\n",
            "Epoch 52/100\n",
            "90/90 [==============================] - 75s 836ms/step - loss: 0.2007 - acc: 0.9146 - val_loss: 0.2064 - val_acc: 0.9120\n",
            "Epoch 53/100\n",
            "90/90 [==============================] - 75s 837ms/step - loss: 0.2060 - acc: 0.9098 - val_loss: 0.1938 - val_acc: 0.9168\n",
            "Epoch 54/100\n",
            "90/90 [==============================] - 75s 837ms/step - loss: 0.2149 - acc: 0.9074 - val_loss: 0.1982 - val_acc: 0.9200\n",
            "Epoch 55/100\n",
            "90/90 [==============================] - 76s 842ms/step - loss: 0.1882 - acc: 0.9227 - val_loss: 0.1700 - val_acc: 0.9264\n",
            "Epoch 56/100\n",
            "90/90 [==============================] - 75s 838ms/step - loss: 0.2002 - acc: 0.9149 - val_loss: 0.1764 - val_acc: 0.9232\n",
            "Epoch 57/100\n",
            "90/90 [==============================] - 76s 845ms/step - loss: 0.1934 - acc: 0.9177 - val_loss: 0.2108 - val_acc: 0.9168\n",
            "Epoch 58/100\n",
            "90/90 [==============================] - 76s 841ms/step - loss: 0.2007 - acc: 0.9156 - val_loss: 0.1928 - val_acc: 0.9224\n",
            "Epoch 59/100\n",
            "90/90 [==============================] - 76s 844ms/step - loss: 0.2036 - acc: 0.9125 - val_loss: 0.2158 - val_acc: 0.8992\n",
            "Epoch 60/100\n",
            "90/90 [==============================] - 75s 839ms/step - loss: 0.1987 - acc: 0.9162 - val_loss: 0.2105 - val_acc: 0.9192\n",
            "Epoch 61/100\n",
            "90/90 [==============================] - 76s 840ms/step - loss: 0.1979 - acc: 0.9147 - val_loss: 0.1941 - val_acc: 0.9256\n",
            "Epoch 62/100\n",
            "90/90 [==============================] - 75s 837ms/step - loss: 0.1892 - acc: 0.9214 - val_loss: 0.1777 - val_acc: 0.9288\n",
            "Epoch 63/100\n",
            "90/90 [==============================] - 76s 845ms/step - loss: 0.1872 - acc: 0.9236 - val_loss: 0.1796 - val_acc: 0.9248\n",
            "Epoch 64/100\n",
            "90/90 [==============================] - 75s 836ms/step - loss: 0.1853 - acc: 0.9224 - val_loss: 0.1737 - val_acc: 0.9344\n",
            "Epoch 65/100\n",
            "90/90 [==============================] - 75s 836ms/step - loss: 0.1915 - acc: 0.9167 - val_loss: 0.1906 - val_acc: 0.9272\n",
            "Epoch 66/100\n",
            "90/90 [==============================] - 75s 838ms/step - loss: 0.1895 - acc: 0.9191 - val_loss: 0.2059 - val_acc: 0.9152\n",
            "Epoch 67/100\n",
            "90/90 [==============================] - 75s 839ms/step - loss: 0.1884 - acc: 0.9210 - val_loss: 0.1800 - val_acc: 0.9304\n",
            "Epoch 68/100\n",
            "90/90 [==============================] - 75s 835ms/step - loss: 0.1891 - acc: 0.9184 - val_loss: 0.1647 - val_acc: 0.9312\n",
            "Epoch 69/100\n",
            "90/90 [==============================] - 75s 839ms/step - loss: 0.1792 - acc: 0.9238 - val_loss: 0.1868 - val_acc: 0.9264\n",
            "Epoch 70/100\n",
            "90/90 [==============================] - 75s 834ms/step - loss: 0.1855 - acc: 0.9209 - val_loss: 0.2344 - val_acc: 0.9008\n",
            "Epoch 71/100\n",
            "90/90 [==============================] - 76s 841ms/step - loss: 0.1804 - acc: 0.9251 - val_loss: 0.1716 - val_acc: 0.9296\n",
            "Epoch 72/100\n",
            "90/90 [==============================] - 75s 834ms/step - loss: 0.1904 - acc: 0.9183 - val_loss: 0.1882 - val_acc: 0.9312\n",
            "Epoch 73/100\n",
            "90/90 [==============================] - 75s 837ms/step - loss: 0.1864 - acc: 0.9200 - val_loss: 0.1899 - val_acc: 0.9240\n",
            "Epoch 74/100\n",
            "90/90 [==============================] - 75s 838ms/step - loss: 0.1818 - acc: 0.9239 - val_loss: 0.1551 - val_acc: 0.9440\n",
            "Epoch 75/100\n",
            "90/90 [==============================] - 75s 837ms/step - loss: 0.1728 - acc: 0.9294 - val_loss: 0.1622 - val_acc: 0.9392\n",
            "Epoch 76/100\n",
            "90/90 [==============================] - 75s 834ms/step - loss: 0.1801 - acc: 0.9236 - val_loss: 0.1738 - val_acc: 0.9272\n",
            "Epoch 77/100\n",
            "90/90 [==============================] - 75s 837ms/step - loss: 0.1791 - acc: 0.9234 - val_loss: 0.1649 - val_acc: 0.9368\n",
            "Epoch 78/100\n",
            "90/90 [==============================] - 75s 837ms/step - loss: 0.1783 - acc: 0.9240 - val_loss: 0.1753 - val_acc: 0.9232\n",
            "Epoch 79/100\n",
            "90/90 [==============================] - 75s 839ms/step - loss: 0.1823 - acc: 0.9217 - val_loss: 0.1812 - val_acc: 0.9240\n",
            "Epoch 80/100\n",
            "90/90 [==============================] - 75s 838ms/step - loss: 0.1639 - acc: 0.9323 - val_loss: 0.1707 - val_acc: 0.9240\n",
            "Epoch 81/100\n",
            "90/90 [==============================] - 75s 838ms/step - loss: 0.1771 - acc: 0.9260 - val_loss: 0.1813 - val_acc: 0.9304\n",
            "Epoch 82/100\n",
            "90/90 [==============================] - 76s 840ms/step - loss: 0.1786 - acc: 0.9251 - val_loss: 0.1710 - val_acc: 0.9264\n",
            "Epoch 83/100\n",
            "90/90 [==============================] - 76s 840ms/step - loss: 0.1702 - acc: 0.9284 - val_loss: 0.1799 - val_acc: 0.9248\n",
            "Epoch 84/100\n",
            "90/90 [==============================] - 75s 837ms/step - loss: 0.1749 - acc: 0.9249 - val_loss: 0.1857 - val_acc: 0.9208\n",
            "Epoch 85/100\n",
            "90/90 [==============================] - 75s 838ms/step - loss: 0.1670 - acc: 0.9295 - val_loss: 0.1521 - val_acc: 0.9344\n",
            "Epoch 86/100\n",
            "90/90 [==============================] - 75s 837ms/step - loss: 0.1753 - acc: 0.9271 - val_loss: 0.1989 - val_acc: 0.9176\n",
            "Epoch 87/100\n",
            "90/90 [==============================] - 76s 840ms/step - loss: 0.1625 - acc: 0.9316 - val_loss: 0.1479 - val_acc: 0.9432\n",
            "Epoch 88/100\n",
            "90/90 [==============================] - 76s 840ms/step - loss: 0.1670 - acc: 0.9282 - val_loss: 0.1669 - val_acc: 0.9344\n",
            "Epoch 89/100\n",
            "90/90 [==============================] - 75s 837ms/step - loss: 0.1674 - acc: 0.9275 - val_loss: 0.1662 - val_acc: 0.9288\n",
            "Epoch 90/100\n",
            "90/90 [==============================] - 75s 839ms/step - loss: 0.1667 - acc: 0.9261 - val_loss: 0.1751 - val_acc: 0.9328\n",
            "Epoch 91/100\n",
            "90/90 [==============================] - 75s 836ms/step - loss: 0.1690 - acc: 0.9308 - val_loss: 0.1907 - val_acc: 0.9200\n",
            "Epoch 92/100\n",
            "90/90 [==============================] - 75s 838ms/step - loss: 0.1601 - acc: 0.9319 - val_loss: 0.1560 - val_acc: 0.9272\n",
            "Epoch 93/100\n",
            "90/90 [==============================] - 75s 835ms/step - loss: 0.1552 - acc: 0.9344 - val_loss: 0.1544 - val_acc: 0.9352\n",
            "Epoch 94/100\n",
            "90/90 [==============================] - 75s 834ms/step - loss: 0.1732 - acc: 0.9261 - val_loss: 0.1622 - val_acc: 0.9304\n",
            "Epoch 95/100\n",
            "90/90 [==============================] - 75s 839ms/step - loss: 0.1680 - acc: 0.9303 - val_loss: 0.1703 - val_acc: 0.9320\n",
            "Epoch 96/100\n",
            "90/90 [==============================] - 75s 836ms/step - loss: 0.1710 - acc: 0.9281 - val_loss: 0.1782 - val_acc: 0.9304\n",
            "Epoch 97/100\n",
            "90/90 [==============================] - 75s 836ms/step - loss: 0.1619 - acc: 0.9326 - val_loss: 0.2179 - val_acc: 0.9128\n",
            "Epoch 98/100\n",
            "90/90 [==============================] - 75s 838ms/step - loss: 0.1604 - acc: 0.9335 - val_loss: 0.1931 - val_acc: 0.9248\n",
            "Epoch 99/100\n",
            "90/90 [==============================] - 75s 835ms/step - loss: 0.1571 - acc: 0.9341 - val_loss: 0.1531 - val_acc: 0.9424\n",
            "Epoch 100/100\n",
            "90/90 [==============================] - 76s 841ms/step - loss: 0.1579 - acc: 0.9326 - val_loss: 0.1757 - val_acc: 0.9240\n"
          ],
          "name": "stdout"
        }
      ]
    },
    {
      "cell_type": "code",
      "metadata": {
        "id": "MWZrJN4-65RC",
        "colab_type": "code",
        "colab": {
          "base_uri": "https://localhost:8080/",
          "height": 562
        },
        "outputId": "13f2d0ac-a9f3-406d-917f-e19388cfee6e"
      },
      "source": [
        "# PLOT LOSS AND ACCURACY\n",
        "%matplotlib inline\n",
        "\n",
        "import matplotlib.image  as mpimg\n",
        "import matplotlib.pyplot as plt\n",
        "\n",
        "#-----------------------------------------------------------\n",
        "# Retrieve a list of list results on training and test data\n",
        "# sets for each training epoch\n",
        "#-----------------------------------------------------------\n",
        "acc=history.history['acc']\n",
        "val_acc=history.history['val_acc']\n",
        "loss=history.history['loss']\n",
        "val_loss=history.history['val_loss']\n",
        "\n",
        "epochs=range(len(acc)) # Get number of epochs\n",
        "\n",
        "#------------------------------------------------\n",
        "# Plot training and validation accuracy per epoch\n",
        "#------------------------------------------------\n",
        "plt.plot(epochs, acc, 'bo', label=\"Training Accuracy\")\n",
        "plt.plot(epochs, val_acc, 'b', label=\"Validation Accuracy\")\n",
        "plt.title('Training and validation accuracy')\n",
        "plt.legend()\n",
        "plt.figure()\n",
        "\n",
        "#------------------------------------------------\n",
        "# Plot training and validation loss per epoch\n",
        "#------------------------------------------------\n",
        "plt.plot(epochs, loss, 'bo', label=\"Training Loss\")\n",
        "plt.plot(epochs, val_loss, 'b', label=\"Validation Loss\")\n",
        "\n",
        "\n",
        "plt.title('Training and validation loss')\n",
        "plt.legend()\n",
        "\n",
        "# Desired output. Charts with training and validation metrics. No crash :)"
      ],
      "execution_count": 10,
      "outputs": [
        {
          "output_type": "execute_result",
          "data": {
            "text/plain": [
              "<matplotlib.legend.Legend at 0x7efc468c5e10>"
            ]
          },
          "metadata": {
            "tags": []
          },
          "execution_count": 10
        },
        {
          "output_type": "display_data",
          "data": {
            "image/png": "[encoded data removed]",
            "text/plain": [
              "<Figure size 432x288 with 1 Axes>"
            ]
          },
          "metadata": {
            "tags": []
          }
        },
        {
          "output_type": "display_data",
          "data": {
            "image/png": "[encoded data removed]",
            "text/plain": [
              "<Figure size 432x288 with 1 Axes>"
            ]
          },
          "metadata": {
            "tags": []
          }
        }
      ]
    },
    {
      "cell_type": "code",
      "metadata": {
        "id": "LqL6FYUrtXpf",
        "colab_type": "code",
        "colab": {
          "resources": {
            "http://localhost:8080/nbextensions/google.colab/files.js": {
              "data": "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",
              "ok": true,
              "headers": [
                [
                  "content-type",
                  "application/javascript"
                ]
              ],
              "status": 200,
              "status_text": ""
            }
          },
          "base_uri": "https://localhost:8080/",
          "height": 108
        },
        "outputId": "af28dbaa-29e7-417e-b913-4769b9742966"
      },
      "source": [
        "# Here's a codeblock just for fun. You should be able to upload an image here \n",
        "# and have it classified without crashing\n",
        "\n",
        "import numpy as np\n",
        "from google.colab import files\n",
        "from keras.preprocessing import image\n",
        "\n",
        "uploaded = files.upload()\n",
        "\n",
        "for fn in uploaded.keys():\n",
        " \n",
        "  # predicting images\n",
        "  path = '/content/' + fn\n",
        "  img = image.load_img(path, target_size=(150,150))# YOUR CODE HERE))\n",
        "  x = image.img_to_array(img)\n",
        "  x = np.expand_dims(x, axis=0)\n",
        "\n",
        "  images = np.vstack([x])\n",
        "  classes = model.predict(images, batch_size=10)\n",
        "  print(classes[0])\n",
        "  if classes[0]>0.5:\n",
        "    print(fn + \" is a dog\")\n",
        "  else:\n",
        "    print(fn + \" is a cat\")"
      ],
      "execution_count": 16,
      "outputs": [
        {
          "output_type": "display_data",
          "data": {
            "text/html": [
              "\n",
              "     <input type=\"file\" id=\"files-eeefb720-73d4-482b-ace9-0d0e4bd2cef2\" name=\"files[]\" multiple disabled />\n",
              "     <output id=\"result-eeefb720-73d4-482b-ace9-0d0e4bd2cef2\">\n",
              "      Upload widget is only available when the cell has been executed in the\n",
              "      current browser session. Please rerun this cell to enable.\n",
              "      </output>\n",
              "      <script src=\"/nbextensions/google.colab/files.js\"></script> "
            ],
            "text/plain": [
              "<IPython.core.display.HTML object>"
            ]
          },
          "metadata": {
            "tags": []
          }
        },
        {
          "output_type": "stream",
          "text": [
            "Saving cat5.jpg to cat5.jpg\n",
            "[0.00277627]\n",
            "cat5.jpg is a cat\n"
          ],
          "name": "stdout"
        }
      ]
    },
    {
      "cell_type": "code",
      "metadata": {
        "id": "9ghey2F3Uroi",
        "colab_type": "code",
        "colab": {}
      },
      "source": [
        ""
      ],
      "execution_count": 0,
      "outputs": []
    }
  ]
}