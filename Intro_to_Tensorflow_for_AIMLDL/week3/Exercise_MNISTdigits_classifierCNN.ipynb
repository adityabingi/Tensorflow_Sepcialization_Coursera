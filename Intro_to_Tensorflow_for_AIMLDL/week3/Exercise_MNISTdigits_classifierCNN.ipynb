{
 "cells": [
  {
   "cell_type": "markdown",
   "metadata": {
    "colab_type": "text",
    "id": "iQjHqsmTAVLU"
   },
   "source": [
    "## Exercise 3\n",
    "In the videos you looked at how you would improve Fashion MNIST using Convolutions. For your exercise see if you can improve MNIST to 99.8% accuracy or more using only a single convolutional layer and a single MaxPooling 2D. You should stop training once the accuracy goes above this amount. It should happen in less than 20 epochs, so it's ok to hard code the number of epochs for training, but your training must end once it hits the above metric. If it doesn't, then you'll need to redesign your layers.\n",
    "\n",
    "I've started the code for you -- you need to finish it!\n",
    "\n",
    "When 99.8% accuracy has been hit, you should print out the string \"Reached 99.8% accuracy so cancelling training!\"\n"
   ]
  },
  {
   "cell_type": "code",
   "execution_count": 2,
   "metadata": {
    "colab": {
     "base_uri": "https://localhost:8080/",
     "height": 374
    },
    "colab_type": "code",
    "id": "sfQRyaJWAIdg",
    "outputId": "29a059d4-1d3e-40fc-98be-8e427401cd43"
   },
   "outputs": [
    {
     "name": "stdout",
     "output_type": "stream",
     "text": [
      "Epoch 1/20\n",
      "60000/60000 [==============================] - 10s 164us/sample - loss: 0.1328 - acc: 0.9603\n",
      "Epoch 2/20\n",
      "60000/60000 [==============================] - 10s 162us/sample - loss: 0.0439 - acc: 0.9868\n",
      "Epoch 3/20\n",
      "60000/60000 [==============================] - 10s 163us/sample - loss: 0.0274 - acc: 0.9913\n",
      "Epoch 4/20\n",
      "60000/60000 [==============================] - 10s 163us/sample - loss: 0.0166 - acc: 0.9947\n",
      "Epoch 5/20\n",
      "60000/60000 [==============================] - 10s 166us/sample - loss: 0.0106 - acc: 0.9964\n",
      "Epoch 6/20\n",
      "60000/60000 [==============================] - 10s 166us/sample - loss: 0.0077 - acc: 0.9976\n",
      "Epoch 7/20\n",
      "60000/60000 [==============================] - 10s 162us/sample - loss: 0.0063 - acc: 0.9979\n",
      "Epoch 8/20\n",
      "59744/60000 [============================>.] - ETA: 0s - loss: 0.0051 - acc: 0.9983\n",
      "Reached 99.8% accuracy so cancelling training\n",
      "60000/60000 [==============================] - 10s 163us/sample - loss: 0.0051 - acc: 0.9983\n",
      "10000/10000 [==============================] - 1s 83us/sample - loss: 0.0523 - acc: 0.9859\n",
      "\n",
      "loss on unseen data is 0.052283853624253786\n"
     ]
    }
   ],
   "source": [
    "import tensorflow as tf\n",
    "\n",
    "# YOUR CODE STARTS HERE\n",
    "class myCallback(tf.keras.callbacks.Callback):\n",
    "  def on_epoch_end(self, epoch, logs={}):\n",
    "    if(logs.get('acc')>=0.998):\n",
    "      print(\"\\nReached 99.8% accuracy so cancelling training\")\n",
    "      self.model.stop_training = True\n",
    "      \n",
    "callback = myCallback()\n",
    "# YOUR CODE ENDS HERE\n",
    "\n",
    "mnist = tf.keras.datasets.mnist\n",
    "(training_images, training_labels), (test_images, test_labels) = mnist.load_data()\n",
    "\n",
    "# YOUR CODE STARTS HERE\n",
    "\n",
    "training_images = training_images/255.0\n",
    "test_images = test_images/255.0\n",
    "no_train_images = training_images.shape[0]\n",
    "no_test_images = test_images.shape[0]\n",
    "training_images = training_images.reshape(no_train_images, 28, 28, 1)\n",
    "test_images = test_images.reshape(no_test_images, 28, 28, 1)\n",
    "# YOUR CODE ENDS HERE\n",
    "\n",
    "model = tf.keras.models.Sequential([\n",
    "    # YOUR CODE STARTS HERE\n",
    "    tf.keras.layers.Conv2D(32, (3,3), activation=tf.nn.relu, input_shape=(28,28,1)),\n",
    "    tf.keras.layers.MaxPooling2D(2,2),\n",
    "    tf.keras.layers.Flatten(),\n",
    "    tf.keras.layers.Dense(256, activation=tf.nn.relu),\n",
    "    tf.keras.layers.Dense(10, activation=tf.nn.softmax)\n",
    "    # YOUR CODE ENDS HERE\n",
    "])\n",
    "\n",
    "# YOUR CODE STARTS HERE\n",
    "model.compile(optimizer='adam', loss='sparse_categorical_crossentropy', metrics=['accuracy'])\n",
    "model.fit(training_images, training_labels, epochs=20, callbacks=[callback])\n",
    "\n",
    "test_loss, test_acc = model.evaluate(test_images, test_labels)\n",
    "\n",
    "print(\"\\nloss on unseen data is {}\".format(test_loss))\n",
    "\n",
    "# YOUR CODE ENDS HERE\n",
    "\n"
   ]
  }
 ],
 "metadata": {
  "accelerator": "GPU",
  "colab": {
   "collapsed_sections": [],
   "name": "Exercise 3 - Question.ipynb",
   "provenance": [],
   "version": "0.3.2"
  },
  "kernelspec": {
   "display_name": "Python 3",
   "language": "python",
   "name": "python3"
  },
  "language_info": {
   "codemirror_mode": {
    "name": "ipython",
    "version": 3
   },
   "file_extension": ".py",
   "mimetype": "text/x-python",
   "name": "python",
   "nbconvert_exporter": "python",
   "pygments_lexer": "ipython3",
   "version": "3.7.1"
  }
 },
 "nbformat": 4,
 "nbformat_minor": 1
}
