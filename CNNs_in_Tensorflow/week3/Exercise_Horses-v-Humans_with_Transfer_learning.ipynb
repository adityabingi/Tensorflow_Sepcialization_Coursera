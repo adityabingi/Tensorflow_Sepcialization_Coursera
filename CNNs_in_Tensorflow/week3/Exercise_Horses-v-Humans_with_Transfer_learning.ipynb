{
  "nbformat": 4,
  "nbformat_minor": 0,
  "metadata": {
    "colab": {
      "name": "Exercise 7 - Question.ipynb",
      "version": "0.3.2",
      "provenance": [],
      "collapsed_sections": []
    },
    "kernelspec": {
      "name": "python3",
      "display_name": "Python 3"
    },
    "accelerator": "GPU"
  },
  "cells": [
    {
      "cell_type": "code",
      "metadata": {
        "id": "lbFmQdsZs5eW",
        "colab_type": "code",
        "colab": {}
      },
      "source": [
        "# Import all the necessary files!\n",
        "import os\n",
        "import tensorflow as tf\n",
        "from tensorflow.keras import layers\n",
        "from tensorflow.keras import Model"
      ],
      "execution_count": 0,
      "outputs": []
    },
    {
      "cell_type": "code",
      "metadata": {
        "colab_type": "code",
        "id": "1xJZ5glPPCRz",
        "colab": {
          "base_uri": "https://localhost:8080/",
          "height": 292
        },
        "outputId": "c55949a9-ff02-49f0-d7a0-61e88346d303"
      },
      "source": [
        "# Download the inception v3 weights\n",
        "!wget --no-check-certificate \\\n",
        "    https://storage.googleapis.com/mledu-datasets/inception_v3_weights_tf_dim_ordering_tf_kernels_notop.h5 \\\n",
        "    -O /tmp/inception_v3_weights_tf_dim_ordering_tf_kernels_notop.h5\n",
        "\n",
        "# Import the inception model  \n",
        "from tensorflow.keras.applications.inception_v3 import InceptionV3\n",
        "\n",
        "# Create an instance of the inception model from the local pre-trained weights\n",
        "local_weights_file = '/tmp/inception_v3_weights_tf_dim_ordering_tf_kernels_notop.h5'\n",
        "\n",
        "\n",
        "\n",
        "pre_trained_model = InceptionV3(input_shape = (150,150,3),\n",
        "                                include_top = False,\n",
        "                                weights = None)\n",
        "\n",
        "pre_trained_model.load_weights(local_weights_file)\n",
        "\n",
        "# Make all the layers in the pre-trained model non-trainable\n",
        "for layer in pre_trained_model.layers:\n",
        "  \n",
        "  layer.trainable = False\n",
        "  \n",
        "# Print the model summary\n",
        "#pre_trained_model.summary()\n",
        "\n",
        "# Expected Output is extremely large, but should end with:\n",
        "\n",
        "#batch_normalization_v1_281 (Bat (None, 3, 3, 192)    576         conv2d_281[0][0]                 \n",
        "#__________________________________________________________________________________________________\n",
        "#activation_273 (Activation)     (None, 3, 3, 320)    0           batch_normalization_v1_273[0][0] \n",
        "#__________________________________________________________________________________________________\n",
        "#mixed9_1 (Concatenate)          (None, 3, 3, 768)    0           activation_275[0][0]             \n",
        "#                                                                 activation_276[0][0]             \n",
        "#__________________________________________________________________________________________________\n",
        "#concatenate_5 (Concatenate)     (None, 3, 3, 768)    0           activation_279[0][0]             \n",
        "#                                                                 activation_280[0][0]             \n",
        "#__________________________________________________________________________________________________\n",
        "#activation_281 (Activation)     (None, 3, 3, 192)    0           batch_normalization_v1_281[0][0] \n",
        "#__________________________________________________________________________________________________\n",
        "#mixed10 (Concatenate)           (None, 3, 3, 2048)   0           activation_273[0][0]             \n",
        "#                                                                 mixed9_1[0][0]                   \n",
        "#                                                                 concatenate_5[0][0]              \n",
        "#                                                                 activation_281[0][0]             \n",
        "#==================================================================================================\n",
        "#Total params: 21,802,784\n",
        "#Trainable params: 0\n",
        "#Non-trainable params: 21,802,784"
      ],
      "execution_count": 2,
      "outputs": [
        {
          "output_type": "stream",
          "text": [
            "--2019-07-17 09:33:11--  https://storage.googleapis.com/mledu-datasets/inception_v3_weights_tf_dim_ordering_tf_kernels_notop.h5\n",
            "Resolving storage.googleapis.com (storage.googleapis.com)... 74.125.203.128, 2404:6800:4008:c06::80\n",
            "Connecting to storage.googleapis.com (storage.googleapis.com)|74.125.203.128|:443... connected.\n",
            "HTTP request sent, awaiting response... 200 OK\n",
            "Length: 87910968 (84M) [application/x-hdf]\n",
            "Saving to: ‘/tmp/inception_v3_weights_tf_dim_ordering_tf_kernels_notop.h5’\n",
            "\n",
            "/tmp/inception_v3_w 100%[===================>]  83.84M  87.9MB/s    in 1.0s    \n",
            "\n",
            "2019-07-17 09:33:12 (87.9 MB/s) - ‘/tmp/inception_v3_weights_tf_dim_ordering_tf_kernels_notop.h5’ saved [87910968/87910968]\n",
            "\n"
          ],
          "name": "stdout"
        },
        {
          "output_type": "stream",
          "text": [
            "WARNING: Logging before flag parsing goes to stderr.\n",
            "W0717 09:33:13.875071 139883824412544 deprecation.py:506] From /usr/local/lib/python3.6/dist-packages/tensorflow/python/ops/init_ops.py:1251: calling VarianceScaling.__init__ (from tensorflow.python.ops.init_ops) with dtype is deprecated and will be removed in a future version.\n",
            "Instructions for updating:\n",
            "Call initializer instance with the dtype argument instead of passing it to the constructor\n"
          ],
          "name": "stderr"
        }
      ]
    },
    {
      "cell_type": "code",
      "metadata": {
        "id": "CFsUlwdfs_wg",
        "colab_type": "code",
        "colab": {
          "base_uri": "https://localhost:8080/",
          "height": 34
        },
        "outputId": "083f708c-f586-4881-a6d2-605302823bb2"
      },
      "source": [
        "last_layer = pre_trained_model.get_layer('mixed7')\n",
        "print('last layer output shape: ', last_layer.output_shape)\n",
        "last_output = last_layer.output\n",
        "\n",
        "# Expected Output:\n",
        "# ('last layer output shape: ', (None, 7, 7, 768))"
      ],
      "execution_count": 3,
      "outputs": [
        {
          "output_type": "stream",
          "text": [
            "last layer output shape:  (None, 7, 7, 768)\n"
          ],
          "name": "stdout"
        }
      ]
    },
    {
      "cell_type": "code",
      "metadata": {
        "id": "-bsWZWp5oMq9",
        "colab_type": "code",
        "colab": {}
      },
      "source": [
        "# Define a Callback class that stops training once accuracy reaches 99.9%\n",
        "class myCallback(tf.keras.callbacks.Callback):\n",
        "  def on_epoch_end(self, epoch, logs={}):\n",
        "    if(logs.get('acc')>0.999):\n",
        "      print(\"\\nReached 99.9% accuracy so cancelling training!\")\n",
        "      self.model.stop_training = True"
      ],
      "execution_count": 0,
      "outputs": []
    },
    {
      "cell_type": "code",
      "metadata": {
        "colab_type": "code",
        "id": "BMXb913pbvFg",
        "colab": {
          "base_uri": "https://localhost:8080/",
          "height": 88
        },
        "outputId": "7e64c1ad-23f0-4962-af4f-2281d50651f7"
      },
      "source": [
        "from tensorflow.keras.optimizers import RMSprop\n",
        "\n",
        "# Flatten the output layer to 1 dimension\n",
        "x = layers.Flatten()(last_output)\n",
        "# Add a fully connected layer with 1,024 hidden units and ReLU activation\n",
        "x = layers.Dense(1024, activation='relu')(x)\n",
        "# Add a dropout rate of 0.2\n",
        "x = layers.Dropout(0.2)(x)                  \n",
        "# Add a final sigmoid layer for classification\n",
        "x = layers.Dense(1, activation = 'sigmoid')(x)           \n",
        "\n",
        "model = Model(pre_trained_model.input, x) \n",
        "\n",
        "model.compile(optimizer = RMSprop(lr=0.0001), \n",
        "              loss = 'binary_crossentropy', \n",
        "              metrics = ['acc'])\n",
        "\n",
        "#model.summary()\n",
        "\n",
        "# Expected output will be large. Last few lines should be:\n",
        "\n",
        "# mixed7 (Concatenate)            (None, 7, 7, 768)    0           activation_248[0][0]             \n",
        "#                                                                  activation_251[0][0]             \n",
        "#                                                                  activation_256[0][0]             \n",
        "#                                                                  activation_257[0][0]             \n",
        "# __________________________________________________________________________________________________\n",
        "# flatten_4 (Flatten)             (None, 37632)        0           mixed7[0][0]                     \n",
        "# __________________________________________________________________________________________________\n",
        "# dense_8 (Dense)                 (None, 1024)         38536192    flatten_4[0][0]                  \n",
        "# __________________________________________________________________________________________________\n",
        "# dropout_4 (Dropout)             (None, 1024)         0           dense_8[0][0]                    \n",
        "# __________________________________________________________________________________________________\n",
        "# dense_9 (Dense)                 (None, 1)            1025        dropout_4[0][0]                  \n",
        "# ==================================================================================================\n",
        "# Total params: 47,512,481\n",
        "# Trainable params: 38,537,217\n",
        "# Non-trainable params: 8,975,264\n"
      ],
      "execution_count": 5,
      "outputs": [
        {
          "output_type": "stream",
          "text": [
            "W0717 09:33:28.028740 139883824412544 deprecation.py:323] From /usr/local/lib/python3.6/dist-packages/tensorflow/python/ops/nn_impl.py:180: add_dispatch_support.<locals>.wrapper (from tensorflow.python.ops.array_ops) is deprecated and will be removed in a future version.\n",
            "Instructions for updating:\n",
            "Use tf.where in 2.0, which has the same broadcast rule as np.where\n"
          ],
          "name": "stderr"
        }
      ]
    },
    {
      "cell_type": "code",
      "metadata": {
        "id": "HrnL_IQ8knWA",
        "colab_type": "code",
        "colab": {
          "base_uri": "https://localhost:8080/",
          "height": 391
        },
        "outputId": "9447b961-eab7-4d5a-85fb-ead317f9eeda"
      },
      "source": [
        "# Get the Horse or Human dataset\n",
        "!wget --no-check-certificate https://storage.googleapis.com/laurencemoroney-blog.appspot.com/horse-or-human.zip -O /tmp/horse-or-human.zip\n",
        "\n",
        "# Get the Horse or Human Validation dataset\n",
        "!wget --no-check-certificate https://storage.googleapis.com/laurencemoroney-blog.appspot.com/validation-horse-or-human.zip -O /tmp/validation-horse-or-human.zip \n",
        "  \n",
        "from tensorflow.keras.preprocessing.image import ImageDataGenerator\n",
        "\n",
        "import os\n",
        "import zipfile\n",
        "\n",
        "local_zip = '//tmp/horse-or-human.zip'\n",
        "zip_ref = zipfile.ZipFile(local_zip, 'r')\n",
        "zip_ref.extractall('/tmp/training')\n",
        "zip_ref.close()\n",
        "\n",
        "local_zip = '//tmp/validation-horse-or-human.zip'\n",
        "zip_ref = zipfile.ZipFile(local_zip, 'r')\n",
        "zip_ref.extractall('/tmp/validation')\n",
        "zip_ref.close()"
      ],
      "execution_count": 6,
      "outputs": [
        {
          "output_type": "stream",
          "text": [
            "--2019-07-17 09:33:29--  https://storage.googleapis.com/laurencemoroney-blog.appspot.com/horse-or-human.zip\n",
            "Resolving storage.googleapis.com (storage.googleapis.com)... 74.125.203.128, 2404:6800:4008:c06::80\n",
            "Connecting to storage.googleapis.com (storage.googleapis.com)|74.125.203.128|:443... connected.\n",
            "HTTP request sent, awaiting response... 200 OK\n",
            "Length: 149574867 (143M) [application/zip]\n",
            "Saving to: ‘/tmp/horse-or-human.zip’\n",
            "\n",
            "/tmp/horse-or-human 100%[===================>] 142.65M  91.6MB/s    in 1.6s    \n",
            "\n",
            "2019-07-17 09:33:31 (91.6 MB/s) - ‘/tmp/horse-or-human.zip’ saved [149574867/149574867]\n",
            "\n",
            "--2019-07-17 09:33:33--  https://storage.googleapis.com/laurencemoroney-blog.appspot.com/validation-horse-or-human.zip\n",
            "Resolving storage.googleapis.com (storage.googleapis.com)... 74.125.204.128, 2404:6800:4008:c06::80\n",
            "Connecting to storage.googleapis.com (storage.googleapis.com)|74.125.204.128|:443... connected.\n",
            "HTTP request sent, awaiting response... 200 OK\n",
            "Length: 11480187 (11M) [application/zip]\n",
            "Saving to: ‘/tmp/validation-horse-or-human.zip’\n",
            "\n",
            "/tmp/validation-hor 100%[===================>]  10.95M  --.-KB/s    in 0.1s    \n",
            "\n",
            "2019-07-17 09:33:33 (102 MB/s) - ‘/tmp/validation-horse-or-human.zip’ saved [11480187/11480187]\n",
            "\n"
          ],
          "name": "stdout"
        }
      ]
    },
    {
      "cell_type": "code",
      "metadata": {
        "id": "y9okX7_ovskI",
        "colab_type": "code",
        "colab": {
          "base_uri": "https://localhost:8080/",
          "height": 85
        },
        "outputId": "b457e00c-4ff8-49d8-ddf9-d9919fd27e01"
      },
      "source": [
        "train_horses_dir = \"/tmp/training/horses\"\n",
        "train_humans_dir = \"/tmp/training/humans\" \n",
        "validation_horses_dir =\"/tmp/validation/horses\"  \n",
        "validation_humans_dir = \"/tmp/validation/humans\" \n",
        "\n",
        "train_horses_fnames = os.listdir(train_horses_dir) \n",
        "train_humans_fnames = os.listdir(train_humans_dir)  \n",
        "validation_horses_fnames = os.listdir(validation_horses_dir) \n",
        "validation_humans_fnames = os.listdir(validation_humans_dir) \n",
        "\n",
        "print(len(train_horses_fnames))\n",
        "print(len(train_humans_fnames))\n",
        "print(len(validation_horses_fnames))\n",
        "print(len(validation_humans_fnames))\n",
        "\n",
        "# Expected Output:\n",
        "# 500\n",
        "# 527\n",
        "# 128\n",
        "# 128"
      ],
      "execution_count": 7,
      "outputs": [
        {
          "output_type": "stream",
          "text": [
            "500\n",
            "527\n",
            "128\n",
            "128\n"
          ],
          "name": "stdout"
        }
      ]
    },
    {
      "cell_type": "code",
      "metadata": {
        "colab_type": "code",
        "id": "O4s8HckqGlnb",
        "colab": {
          "base_uri": "https://localhost:8080/",
          "height": 51
        },
        "outputId": "1bec108b-e8dc-4423-d1a7-b1b98c496eb5"
      },
      "source": [
        "# Define our example directories and files\n",
        "train_dir = '/tmp/training'\n",
        "validation_dir = '/tmp/validation'\n",
        "\n",
        "# Add our data-augmentation parameters to ImageDataGenerator\n",
        "train_datagen = ImageDataGenerator(\n",
        "    rescale = 1.0/255.,\n",
        "    rotation_range = 40,\n",
        "    height_shift_range = 0.2,\n",
        "    width_shift_range = 0.2,\n",
        "    shear_range = 0.2,\n",
        "    zoom_range = 0.2,\n",
        "    horizontal_flip = True,\n",
        "    fill_mode='nearest'\n",
        ")\n",
        "\n",
        "# Note that the validation data should not be augmented!\n",
        "test_datagen = ImageDataGenerator(rescale=1.0/255. )\n",
        "\n",
        "# Flow training images in batches of 20 using train_datagen generator\n",
        "train_generator = train_datagen.flow_from_directory(\n",
        "    train_dir,\n",
        "    target_size=(150,150),\n",
        "    batch_size= 64,\n",
        "    class_mode ='binary'\n",
        ")     \n",
        "\n",
        "# Flow validation images in batches of 20 using test_datagen generator\n",
        "validation_generator =  test_datagen.flow_from_directory(\n",
        "    validation_dir,\n",
        "    target_size = (150,150),\n",
        "    batch_size = 32,\n",
        "    class_mode='binary'\n",
        ")\n",
        "\n",
        "# Expected Output:\n",
        "# Found 1027 images belonging to 2 classes.\n",
        "# Found 256 images belonging to 2 classes."
      ],
      "execution_count": 8,
      "outputs": [
        {
          "output_type": "stream",
          "text": [
            "Found 1027 images belonging to 2 classes.\n",
            "Found 256 images belonging to 2 classes.\n"
          ],
          "name": "stdout"
        }
      ]
    },
    {
      "cell_type": "code",
      "metadata": {
        "colab_type": "code",
        "id": "Blhq2MAUeyGA",
        "colab": {
          "base_uri": "https://localhost:8080/",
          "height": 1000
        },
        "outputId": "b77b5272-3a4d-45e4-b54f-b0198a3b3f4c"
      },
      "source": [
        "# Run this and see how many epochs it should take before the callback\n",
        "# fires, and stops training at 99.9% accuracy\n",
        "# (It should take less than 100 epochs)\n",
        "\n",
        "callbacks = myCallback()\n",
        "history = model.fit_generator(\n",
        "    train_generator,\n",
        "    steps_per_epoch = 16,\n",
        "    epochs = 100,\n",
        "    validation_data = validation_generator,\n",
        "    validation_steps = 4,\n",
        "    verbose = 1,\n",
        "    callbacks= [callbacks]\n",
        ")"
      ],
      "execution_count": 9,
      "outputs": [
        {
          "output_type": "stream",
          "text": [
            "Epoch 1/100\n",
            "16/16 [==============================] - 15s 968ms/step - loss: 0.5000 - acc: 0.8245 - val_loss: 0.0192 - val_acc: 0.9922\n",
            "Epoch 2/100\n",
            "16/16 [==============================] - 12s 727ms/step - loss: 0.1510 - acc: 0.9657 - val_loss: 0.0057 - val_acc: 1.0000\n",
            "Epoch 3/100\n",
            "16/16 [==============================] - 12s 734ms/step - loss: 0.0628 - acc: 0.9803 - val_loss: 0.0184 - val_acc: 0.9922\n",
            "Epoch 4/100\n",
            "16/16 [==============================] - 12s 735ms/step - loss: 0.2070 - acc: 0.9751 - val_loss: 0.0031 - val_acc: 1.0000\n",
            "Epoch 5/100\n",
            "16/16 [==============================] - 12s 734ms/step - loss: 0.0275 - acc: 0.9927 - val_loss: 0.0023 - val_acc: 1.0000\n",
            "Epoch 6/100\n",
            "16/16 [==============================] - 12s 779ms/step - loss: 0.0467 - acc: 0.9814 - val_loss: 0.0372 - val_acc: 0.9766\n",
            "Epoch 7/100\n",
            "16/16 [==============================] - 11s 692ms/step - loss: 0.0629 - acc: 0.9911 - val_loss: 2.7316e-04 - val_acc: 1.0000\n",
            "Epoch 8/100\n",
            "16/16 [==============================] - 12s 741ms/step - loss: 0.0632 - acc: 0.9792 - val_loss: 0.0201 - val_acc: 0.9922\n",
            "Epoch 9/100\n",
            "16/16 [==============================] - 12s 740ms/step - loss: 0.0253 - acc: 0.9927 - val_loss: 0.0051 - val_acc: 1.0000\n",
            "Epoch 10/100\n",
            "16/16 [==============================] - 12s 779ms/step - loss: 0.0193 - acc: 0.9922 - val_loss: 0.0116 - val_acc: 0.9922\n",
            "Epoch 11/100\n",
            "16/16 [==============================] - 12s 738ms/step - loss: 0.0393 - acc: 0.9865 - val_loss: 0.0040 - val_acc: 1.0000\n",
            "Epoch 12/100\n",
            "16/16 [==============================] - 11s 695ms/step - loss: 0.1228 - acc: 0.9778 - val_loss: 0.1009 - val_acc: 0.9766\n",
            "Epoch 13/100\n",
            "16/16 [==============================] - 12s 780ms/step - loss: 0.0226 - acc: 0.9941 - val_loss: 0.0070 - val_acc: 0.9922\n",
            "Epoch 14/100\n",
            "16/16 [==============================] - 12s 743ms/step - loss: 0.0103 - acc: 0.9958 - val_loss: 2.6756e-05 - val_acc: 1.0000\n",
            "Epoch 15/100\n",
            "16/16 [==============================] - 12s 741ms/step - loss: 0.0693 - acc: 0.9917 - val_loss: 8.2729e-05 - val_acc: 1.0000\n",
            "Epoch 16/100\n",
            "16/16 [==============================] - 12s 743ms/step - loss: 0.0116 - acc: 0.9958 - val_loss: 2.3442e-05 - val_acc: 1.0000\n",
            "Epoch 17/100\n",
            "16/16 [==============================] - 12s 738ms/step - loss: 0.0098 - acc: 0.9969 - val_loss: 0.0275 - val_acc: 0.9844\n",
            "Epoch 18/100\n",
            "16/16 [==============================] - 12s 742ms/step - loss: 0.0086 - acc: 0.9958 - val_loss: 1.3993e-05 - val_acc: 1.0000\n",
            "Epoch 19/100\n",
            "16/16 [==============================] - 12s 739ms/step - loss: 0.0059 - acc: 0.9979 - val_loss: 7.1704e-04 - val_acc: 1.0000\n",
            "Epoch 20/100\n",
            "16/16 [==============================] - 12s 743ms/step - loss: 0.0137 - acc: 0.9958 - val_loss: 0.0370 - val_acc: 0.9844\n",
            "Epoch 21/100\n",
            "16/16 [==============================] - 12s 738ms/step - loss: 0.0313 - acc: 0.9927 - val_loss: 0.0425 - val_acc: 0.9844\n",
            "Epoch 22/100\n",
            "16/16 [==============================] - 12s 737ms/step - loss: 0.1103 - acc: 0.9907 - val_loss: 0.3617 - val_acc: 0.9609\n",
            "Epoch 23/100\n",
            "16/16 [==============================] - 12s 742ms/step - loss: 0.0246 - acc: 0.9907 - val_loss: 9.3248e-04 - val_acc: 1.0000\n",
            "Epoch 24/100\n",
            "16/16 [==============================] - 12s 740ms/step - loss: 0.0190 - acc: 0.9938 - val_loss: 0.0161 - val_acc: 0.9922\n",
            "Epoch 25/100\n",
            "16/16 [==============================] - 12s 738ms/step - loss: 0.0227 - acc: 0.9927 - val_loss: 0.1152 - val_acc: 0.9766\n",
            "Epoch 26/100\n",
            "16/16 [==============================] - 12s 742ms/step - loss: 0.0142 - acc: 0.9958 - val_loss: 0.0195 - val_acc: 0.9922\n",
            "Epoch 27/100\n",
            "16/16 [==============================] - 12s 739ms/step - loss: 0.0067 - acc: 0.9979 - val_loss: 0.0060 - val_acc: 0.9922\n",
            "Epoch 28/100\n",
            "16/16 [==============================] - 13s 789ms/step - loss: 0.0077 - acc: 0.9971 - val_loss: 0.0069 - val_acc: 0.9922\n",
            "Epoch 29/100\n",
            "16/16 [==============================] - 12s 741ms/step - loss: 0.0061 - acc: 0.9979 - val_loss: 0.0195 - val_acc: 0.9922\n",
            "Epoch 30/100\n",
            "16/16 [==============================] - 12s 743ms/step - loss: 0.0148 - acc: 0.9958 - val_loss: 9.1823e-05 - val_acc: 1.0000\n",
            "Epoch 31/100\n",
            "16/16 [==============================] - 12s 741ms/step - loss: 0.0099 - acc: 0.9979 - val_loss: 0.0259 - val_acc: 0.9922\n",
            "Epoch 32/100\n",
            "16/16 [==============================] - 12s 744ms/step - loss: 0.0352 - acc: 0.9927 - val_loss: 0.0599 - val_acc: 0.9922\n",
            "Epoch 33/100\n",
            "16/16 [==============================] - 12s 743ms/step - loss: 0.0108 - acc: 0.9938 - val_loss: 0.0211 - val_acc: 0.9922\n",
            "Epoch 34/100\n",
            "16/16 [==============================] - 12s 742ms/step - loss: 0.0352 - acc: 0.9927 - val_loss: 0.0220 - val_acc: 0.9922\n",
            "Epoch 35/100\n",
            "16/16 [==============================] - 12s 755ms/step - loss: 0.0689 - acc: 0.9917 - val_loss: 0.0031 - val_acc: 1.0000\n",
            "Epoch 36/100\n",
            "15/16 [===========================>..] - ETA: 0s - loss: 0.0034 - acc: 1.0000\n",
            "Reached 99.9% accuracy so cancelling training!\n",
            "16/16 [==============================] - 12s 734ms/step - loss: 0.0032 - acc: 1.0000 - val_loss: 5.6457e-04 - val_acc: 1.0000\n"
          ],
          "name": "stdout"
        }
      ]
    },
    {
      "cell_type": "code",
      "metadata": {
        "id": "C2Fp6Se9rKuL",
        "colab_type": "code",
        "colab": {
          "base_uri": "https://localhost:8080/",
          "height": 298
        },
        "outputId": "5257fe8c-93b7-419e-fa1f-2263a8a0efc4"
      },
      "source": [
        "import matplotlib.pyplot as plt\n",
        "acc = history.history['acc']\n",
        "val_acc = history.history['val_acc']\n",
        "loss = history.history['loss']\n",
        "val_loss = history.history['val_loss']\n",
        "\n",
        "epochs = range(len(acc))\n",
        "\n",
        "plt.plot(epochs, acc, 'r', label='Training accuracy')\n",
        "plt.plot(epochs, val_acc, 'b', label='Validation accuracy')\n",
        "plt.title('Training and validation accuracy')\n",
        "plt.legend(loc=0)\n",
        "plt.figure()\n",
        "\n",
        "\n",
        "plt.show()"
      ],
      "execution_count": 10,
      "outputs": [
        {
          "output_type": "display_data",
          "data": {
            "image/png": "[encoded data removed]",
            "text/plain": [
              "<Figure size 432x288 with 1 Axes>"
            ]
          },
          "metadata": {
            "tags": []
          }
        },
        {
          "output_type": "display_data",
          "data": {
            "text/plain": [
              "<Figure size 432x288 with 0 Axes>"
            ]
          },
          "metadata": {
            "tags": []
          }
        }
      ]
    },
    {
      "cell_type": "code",
      "metadata": {
        "id": "T7ghG_4URqqs",
        "colab_type": "code",
        "colab": {}
      },
      "source": [
        ""
      ],
      "execution_count": 0,
      "outputs": []
    }
  ]
}