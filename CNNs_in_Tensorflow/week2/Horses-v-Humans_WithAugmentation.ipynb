{
  "nbformat": 4,
  "nbformat_minor": 0,
  "metadata": {
    "colab": {
      "name": "Horse-or-Human-WithAugmentation.ipynb",
      "version": "0.3.2",
      "provenance": [],
      "collapsed_sections": [],
      "toc_visible": true
    },
    "kernelspec": {
      "name": "python3",
      "display_name": "Python 3"
    },
    "accelerator": "GPU"
  },
  "cells": [
    {
      "cell_type": "code",
      "metadata": {
        "colab_type": "code",
        "id": "RXZT2UsyIVe_",
        "colab": {
          "base_uri": "https://localhost:8080/",
          "height": 411
        },
        "outputId": "27e39f21-6030-4e62-d713-9d5fba24b03b"
      },
      "source": [
        "!wget --no-check-certificate \\\n",
        "    https://storage.googleapis.com/laurencemoroney-blog.appspot.com/horse-or-human.zip \\\n",
        "    -O /tmp/horse-or-human.zip\n",
        "\n",
        "!wget --no-check-certificate \\\n",
        "    https://storage.googleapis.com/laurencemoroney-blog.appspot.com/validation-horse-or-human.zip \\\n",
        "    -O /tmp/validation-horse-or-human.zip\n",
        "  \n",
        "import os\n",
        "import zipfile\n",
        "\n",
        "local_zip = '/tmp/horse-or-human.zip'\n",
        "zip_ref = zipfile.ZipFile(local_zip, 'r')\n",
        "zip_ref.extractall('/tmp/horse-or-human')\n",
        "local_zip = '/tmp/validation-horse-or-human.zip'\n",
        "zip_ref = zipfile.ZipFile(local_zip, 'r')\n",
        "zip_ref.extractall('/tmp/validation-horse-or-human')\n",
        "zip_ref.close()\n",
        "# Directory with our training horse pictures\n",
        "train_horse_dir = os.path.join('/tmp/horse-or-human/horses')\n",
        "\n",
        "# Directory with our training human pictures\n",
        "train_human_dir = os.path.join('/tmp/horse-or-human/humans')\n",
        "\n",
        "# Directory with our training horse pictures\n",
        "validation_horse_dir = os.path.join('/tmp/validation-horse-or-human/horses')\n",
        "\n",
        "# Directory with our training human pictures\n",
        "validation_human_dir = os.path.join('/tmp/validation-horse-or-human/humans')"
      ],
      "execution_count": 1,
      "outputs": [
        {
          "output_type": "stream",
          "text": [
            "--2019-07-09 16:08:57--  https://storage.googleapis.com/laurencemoroney-blog.appspot.com/horse-or-human.zip\n",
            "Resolving storage.googleapis.com (storage.googleapis.com)... 172.217.31.176, 2404:6800:4004:809::2010\n",
            "Connecting to storage.googleapis.com (storage.googleapis.com)|172.217.31.176|:443... connected.\n",
            "HTTP request sent, awaiting response... 200 OK\n",
            "Length: 149574867 (143M) [application/zip]\n",
            "Saving to: ‘/tmp/horse-or-human.zip’\n",
            "\n",
            "/tmp/horse-or-human 100%[===================>] 142.65M  56.6MB/s    in 2.5s    \n",
            "\n",
            "2019-07-09 16:09:05 (56.6 MB/s) - ‘/tmp/horse-or-human.zip’ saved [149574867/149574867]\n",
            "\n",
            "--2019-07-09 16:09:08--  https://storage.googleapis.com/laurencemoroney-blog.appspot.com/validation-horse-or-human.zip\n",
            "Resolving storage.googleapis.com (storage.googleapis.com)... 172.217.161.48, 2404:6800:4004:81b::2010\n",
            "Connecting to storage.googleapis.com (storage.googleapis.com)|172.217.161.48|:443... connected.\n",
            "HTTP request sent, awaiting response... 200 OK\n",
            "Length: 11480187 (11M) [application/zip]\n",
            "Saving to: ‘/tmp/validation-horse-or-human.zip’\n",
            "\n",
            "/tmp/validation-hor 100%[===================>]  10.95M  --.-KB/s    in 0.1s    \n",
            "\n",
            "2019-07-09 16:09:08 (82.0 MB/s) - ‘/tmp/validation-horse-or-human.zip’ saved [11480187/11480187]\n",
            "\n"
          ],
          "name": "stdout"
        }
      ]
    },
    {
      "cell_type": "markdown",
      "metadata": {
        "colab_type": "text",
        "id": "5oqBkNBJmtUv"
      },
      "source": [
        "## Building a Small Model from Scratch\n",
        "\n",
        "But before we continue, let's start defining the model:\n",
        "\n",
        "Step 1 will be to import tensorflow."
      ]
    },
    {
      "cell_type": "code",
      "metadata": {
        "id": "qvfZg3LQbD-5",
        "colab_type": "code",
        "colab": {}
      },
      "source": [
        "import tensorflow as tf"
      ],
      "execution_count": 0,
      "outputs": []
    },
    {
      "cell_type": "markdown",
      "metadata": {
        "colab_type": "text",
        "id": "BnhYCP4tdqjC"
      },
      "source": [
        "We then add convolutional layers as in the previous example, and flatten the final result to feed into the densely connected layers."
      ]
    },
    {
      "cell_type": "markdown",
      "metadata": {
        "id": "gokG5HKpdtzm",
        "colab_type": "text"
      },
      "source": [
        "Finally we add the densely connected layers. \n",
        "\n",
        "Note that because we are facing a two-class classification problem, i.e. a *binary classification problem*, we will end our network with a [*sigmoid* activation](https://wikipedia.org/wiki/Sigmoid_function), so that the output of our network will be a single scalar between 0 and 1, encoding the probability that the current image is class 1 (as opposed to class 0)."
      ]
    },
    {
      "cell_type": "code",
      "metadata": {
        "id": "PixZ2s5QbYQ3",
        "colab_type": "code",
        "colab": {
          "base_uri": "https://localhost:8080/",
          "height": 105
        },
        "outputId": "84287e11-293e-42a8-eb55-812aff02bbf2"
      },
      "source": [
        "model = tf.keras.models.Sequential([\n",
        "    # Note the input shape is the desired size of the image 300x300 with 3 bytes color\n",
        "    # This is the first convolution\n",
        "    tf.keras.layers.Conv2D(16, (3,3), activation='relu', input_shape=(300, 300, 3)),\n",
        "    tf.keras.layers.MaxPooling2D(2, 2),\n",
        "    # The second convolution\n",
        "    tf.keras.layers.Conv2D(32, (3,3), activation='relu'),\n",
        "    tf.keras.layers.MaxPooling2D(2,2),\n",
        "    # The third convolution\n",
        "    tf.keras.layers.Conv2D(64, (3,3), activation='relu'),\n",
        "    tf.keras.layers.MaxPooling2D(2,2),\n",
        "    # The fourth convolution\n",
        "    tf.keras.layers.Conv2D(64, (3,3), activation='relu'),\n",
        "    tf.keras.layers.MaxPooling2D(2,2),\n",
        "    # The fifth convolution\n",
        "    tf.keras.layers.Conv2D(64, (3,3), activation='relu'),\n",
        "    tf.keras.layers.MaxPooling2D(2,2),\n",
        "    # Flatten the results to feed into a DNN\n",
        "    tf.keras.layers.Flatten(),\n",
        "    # 512 neuron hidden layer\n",
        "    tf.keras.layers.Dense(512, activation='relu'),\n",
        "    # Only 1 output neuron. It will contain a value from 0-1 where 0 for 1 class ('horses') and 1 for the other ('humans')\n",
        "    tf.keras.layers.Dense(1, activation='sigmoid')\n",
        "])"
      ],
      "execution_count": 3,
      "outputs": [
        {
          "output_type": "stream",
          "text": [
            "WARNING: Logging before flag parsing goes to stderr.\n",
            "W0709 16:11:06.713369 139626625111936 deprecation.py:506] From /usr/local/lib/python3.6/dist-packages/tensorflow/python/ops/init_ops.py:1251: calling VarianceScaling.__init__ (from tensorflow.python.ops.init_ops) with dtype is deprecated and will be removed in a future version.\n",
            "Instructions for updating:\n",
            "Call initializer instance with the dtype argument instead of passing it to the constructor\n"
          ],
          "name": "stderr"
        }
      ]
    },
    {
      "cell_type": "code",
      "metadata": {
        "colab_type": "code",
        "id": "8DHWhFP_uhq3",
        "colab": {
          "base_uri": "https://localhost:8080/",
          "height": 88
        },
        "outputId": "ca47e955-477c-4552-bc8a-aeebf5c2b084"
      },
      "source": [
        "from tensorflow.keras.optimizers import RMSprop\n",
        "\n",
        "model.compile(loss='binary_crossentropy',\n",
        "              optimizer=RMSprop(lr=1e-4),\n",
        "              metrics=['acc'])"
      ],
      "execution_count": 4,
      "outputs": [
        {
          "output_type": "stream",
          "text": [
            "W0709 16:11:09.605191 139626625111936 deprecation.py:323] From /usr/local/lib/python3.6/dist-packages/tensorflow/python/ops/nn_impl.py:180: add_dispatch_support.<locals>.wrapper (from tensorflow.python.ops.array_ops) is deprecated and will be removed in a future version.\n",
            "Instructions for updating:\n",
            "Use tf.where in 2.0, which has the same broadcast rule as np.where\n"
          ],
          "name": "stderr"
        }
      ]
    },
    {
      "cell_type": "code",
      "metadata": {
        "colab_type": "code",
        "id": "ClebU9NJg99G",
        "colab": {
          "base_uri": "https://localhost:8080/",
          "height": 51
        },
        "outputId": "de7174e4-2580-4f3f-c7c3-a1ea0259d1a3"
      },
      "source": [
        "from tensorflow.keras.preprocessing.image import ImageDataGenerator\n",
        "\n",
        "# All images will be rescaled by 1./255\n",
        "train_datagen = ImageDataGenerator(\n",
        "      rescale=1./255,\n",
        "      rotation_range=40,\n",
        "      width_shift_range=0.2,\n",
        "      height_shift_range=0.2,\n",
        "      shear_range=0.2,\n",
        "      zoom_range=0.2,\n",
        "      horizontal_flip=True,\n",
        "      fill_mode='nearest')\n",
        "\n",
        "validation_datagen = ImageDataGenerator(rescale=1/255)\n",
        "\n",
        "# Flow training images in batches of 128 using train_datagen generator\n",
        "train_generator = train_datagen.flow_from_directory(\n",
        "        '/tmp/horse-or-human/',  # This is the source directory for training images\n",
        "        target_size=(300, 300),  # All images will be resized to 150x150\n",
        "        batch_size=128,\n",
        "        # Since we use binary_crossentropy loss, we need binary labels\n",
        "        class_mode='binary')\n",
        "\n",
        "# Flow training images in batches of 128 using train_datagen generator\n",
        "validation_generator = validation_datagen.flow_from_directory(\n",
        "        '/tmp/validation-horse-or-human/',  # This is the source directory for training images\n",
        "        target_size=(300, 300),  # All images will be resized to 150x150\n",
        "        batch_size=32,\n",
        "        # Since we use binary_crossentropy loss, we need binary labels\n",
        "        class_mode='binary')"
      ],
      "execution_count": 5,
      "outputs": [
        {
          "output_type": "stream",
          "text": [
            "Found 1027 images belonging to 2 classes.\n",
            "Found 256 images belonging to 2 classes.\n"
          ],
          "name": "stdout"
        }
      ]
    },
    {
      "cell_type": "code",
      "metadata": {
        "colab_type": "code",
        "id": "Fb1_lgobv81m",
        "colab": {
          "base_uri": "https://localhost:8080/",
          "height": 1000
        },
        "outputId": "0a858563-e12c-4fbd-ab32-da8a1683092b"
      },
      "source": [
        "history = model.fit_generator(\n",
        "      train_generator,\n",
        "      steps_per_epoch=8,  \n",
        "      epochs=100,\n",
        "      verbose=1,\n",
        "      validation_data = validation_generator,\n",
        "      validation_steps=8)"
      ],
      "execution_count": 6,
      "outputs": [
        {
          "output_type": "stream",
          "text": [
            "Epoch 1/100\n",
            "8/8 [==============================] - 22s 3s/step - loss: 0.6822 - acc: 0.5328 - val_loss: 0.6776 - val_acc: 0.5195\n",
            "Epoch 2/100\n",
            "8/8 [==============================] - 21s 3s/step - loss: 0.6726 - acc: 0.5806 - val_loss: 0.6680 - val_acc: 0.5156\n",
            "Epoch 3/100\n",
            "8/8 [==============================] - 20s 3s/step - loss: 0.6557 - acc: 0.5984 - val_loss: 0.6792 - val_acc: 0.5078\n",
            "Epoch 4/100\n",
            "8/8 [==============================] - 20s 3s/step - loss: 0.6715 - acc: 0.6363 - val_loss: 0.6003 - val_acc: 0.7539\n",
            "Epoch 5/100\n",
            "8/8 [==============================] - 20s 3s/step - loss: 0.6633 - acc: 0.6596 - val_loss: 0.6500 - val_acc: 0.5234\n",
            "Epoch 6/100\n",
            "8/8 [==============================] - 23s 3s/step - loss: 0.5984 - acc: 0.7480 - val_loss: 0.5935 - val_acc: 0.6367\n",
            "Epoch 7/100\n",
            "8/8 [==============================] - 18s 2s/step - loss: 0.6091 - acc: 0.6718 - val_loss: 1.0234 - val_acc: 0.5000\n",
            "Epoch 8/100\n",
            "8/8 [==============================] - 23s 3s/step - loss: 0.5994 - acc: 0.6885 - val_loss: 0.5689 - val_acc: 0.6445\n",
            "Epoch 9/100\n",
            "8/8 [==============================] - 20s 2s/step - loss: 0.5851 - acc: 0.7219 - val_loss: 0.5550 - val_acc: 0.6953\n",
            "Epoch 10/100\n",
            "8/8 [==============================] - 20s 2s/step - loss: 0.5486 - acc: 0.7141 - val_loss: 0.6535 - val_acc: 0.5742\n",
            "Epoch 11/100\n",
            "8/8 [==============================] - 20s 3s/step - loss: 0.5308 - acc: 0.7197 - val_loss: 0.6423 - val_acc: 0.5938\n",
            "Epoch 12/100\n",
            "8/8 [==============================] - 23s 3s/step - loss: 0.4780 - acc: 0.7832 - val_loss: 0.4821 - val_acc: 0.7617\n",
            "Epoch 13/100\n",
            "8/8 [==============================] - 17s 2s/step - loss: 0.4895 - acc: 0.7339 - val_loss: 0.5558 - val_acc: 0.7109\n",
            "Epoch 14/100\n",
            "8/8 [==============================] - 23s 3s/step - loss: 0.4809 - acc: 0.7725 - val_loss: 0.5504 - val_acc: 0.7227\n",
            "Epoch 15/100\n",
            "8/8 [==============================] - 20s 3s/step - loss: 0.4719 - acc: 0.7453 - val_loss: 0.9561 - val_acc: 0.5586\n",
            "Epoch 16/100\n",
            "8/8 [==============================] - 20s 3s/step - loss: 0.4812 - acc: 0.7820 - val_loss: 0.7506 - val_acc: 0.6484\n",
            "Epoch 17/100\n",
            "8/8 [==============================] - 20s 3s/step - loss: 0.4553 - acc: 0.7831 - val_loss: 0.9211 - val_acc: 0.6055\n",
            "Epoch 18/100\n",
            "8/8 [==============================] - 20s 3s/step - loss: 0.4721 - acc: 0.7831 - val_loss: 0.7810 - val_acc: 0.6602\n",
            "Epoch 19/100\n",
            "8/8 [==============================] - 20s 2s/step - loss: 0.5039 - acc: 0.7809 - val_loss: 0.7061 - val_acc: 0.6758\n",
            "Epoch 20/100\n",
            "8/8 [==============================] - 20s 2s/step - loss: 0.3809 - acc: 0.8165 - val_loss: 0.6373 - val_acc: 0.7461\n",
            "Epoch 21/100\n",
            "8/8 [==============================] - 20s 2s/step - loss: 0.4516 - acc: 0.7831 - val_loss: 1.1477 - val_acc: 0.5898\n",
            "Epoch 22/100\n",
            "8/8 [==============================] - 22s 3s/step - loss: 0.4076 - acc: 0.8242 - val_loss: 0.7725 - val_acc: 0.6875\n",
            "Epoch 23/100\n",
            "8/8 [==============================] - 20s 2s/step - loss: 0.4871 - acc: 0.7686 - val_loss: 0.8870 - val_acc: 0.6523\n",
            "Epoch 24/100\n",
            "8/8 [==============================] - 20s 2s/step - loss: 0.3959 - acc: 0.8209 - val_loss: 0.9649 - val_acc: 0.6562\n",
            "Epoch 25/100\n",
            "8/8 [==============================] - 20s 2s/step - loss: 0.4256 - acc: 0.8209 - val_loss: 1.3013 - val_acc: 0.5664\n",
            "Epoch 26/100\n",
            "8/8 [==============================] - 20s 2s/step - loss: 0.3722 - acc: 0.8142 - val_loss: 0.7881 - val_acc: 0.6914\n",
            "Epoch 27/100\n",
            "8/8 [==============================] - 19s 2s/step - loss: 0.4104 - acc: 0.8242 - val_loss: 1.0442 - val_acc: 0.6523\n",
            "Epoch 28/100\n",
            "8/8 [==============================] - 20s 2s/step - loss: 0.4663 - acc: 0.8053 - val_loss: 1.0065 - val_acc: 0.6289\n",
            "Epoch 29/100\n",
            "8/8 [==============================] - 20s 2s/step - loss: 0.4545 - acc: 0.8131 - val_loss: 0.7941 - val_acc: 0.6797\n",
            "Epoch 30/100\n",
            "8/8 [==============================] - 20s 2s/step - loss: 0.3513 - acc: 0.8521 - val_loss: 1.1237 - val_acc: 0.6523\n",
            "Epoch 31/100\n",
            "8/8 [==============================] - 20s 2s/step - loss: 0.3603 - acc: 0.8320 - val_loss: 1.3731 - val_acc: 0.5781\n",
            "Epoch 32/100\n",
            "8/8 [==============================] - 22s 3s/step - loss: 0.3274 - acc: 0.8799 - val_loss: 1.3160 - val_acc: 0.6367\n",
            "Epoch 33/100\n",
            "8/8 [==============================] - 17s 2s/step - loss: 0.4801 - acc: 0.7868 - val_loss: 1.2752 - val_acc: 0.6328\n",
            "Epoch 34/100\n",
            "8/8 [==============================] - 23s 3s/step - loss: 0.3014 - acc: 0.8789 - val_loss: 1.4413 - val_acc: 0.5977\n",
            "Epoch 35/100\n",
            "8/8 [==============================] - 20s 2s/step - loss: 0.3220 - acc: 0.8610 - val_loss: 1.3199 - val_acc: 0.6562\n",
            "Epoch 36/100\n",
            "8/8 [==============================] - 20s 2s/step - loss: 0.3290 - acc: 0.8387 - val_loss: 1.3417 - val_acc: 0.6367\n",
            "Epoch 37/100\n",
            "8/8 [==============================] - 20s 2s/step - loss: 0.3197 - acc: 0.8398 - val_loss: 1.4444 - val_acc: 0.6055\n",
            "Epoch 38/100\n",
            "8/8 [==============================] - 22s 3s/step - loss: 0.3252 - acc: 0.8555 - val_loss: 1.3826 - val_acc: 0.6211\n",
            "Epoch 39/100\n",
            "8/8 [==============================] - 17s 2s/step - loss: 0.3041 - acc: 0.8643 - val_loss: 1.5343 - val_acc: 0.6016\n",
            "Epoch 40/100\n",
            "8/8 [==============================] - 20s 2s/step - loss: 0.3037 - acc: 0.8687 - val_loss: 0.8202 - val_acc: 0.7188\n",
            "Epoch 41/100\n",
            "8/8 [==============================] - 23s 3s/step - loss: 0.3213 - acc: 0.8564 - val_loss: 1.3354 - val_acc: 0.6406\n",
            "Epoch 42/100\n",
            "8/8 [==============================] - 17s 2s/step - loss: 0.3337 - acc: 0.8773 - val_loss: 1.2580 - val_acc: 0.6680\n",
            "Epoch 43/100\n",
            "8/8 [==============================] - 23s 3s/step - loss: 0.2378 - acc: 0.9082 - val_loss: 1.2837 - val_acc: 0.6797\n",
            "Epoch 44/100\n",
            "8/8 [==============================] - 20s 3s/step - loss: 0.3235 - acc: 0.8265 - val_loss: 2.1264 - val_acc: 0.5586\n",
            "Epoch 45/100\n",
            "8/8 [==============================] - 20s 2s/step - loss: 0.2460 - acc: 0.8799 - val_loss: 2.0066 - val_acc: 0.5781\n",
            "Epoch 46/100\n",
            "8/8 [==============================] - 20s 2s/step - loss: 0.2109 - acc: 0.9066 - val_loss: 1.4540 - val_acc: 0.6680\n",
            "Epoch 47/100\n",
            "8/8 [==============================] - 20s 3s/step - loss: 0.2517 - acc: 0.8721 - val_loss: 2.5787 - val_acc: 0.5273\n",
            "Epoch 48/100\n",
            "8/8 [==============================] - 23s 3s/step - loss: 0.2549 - acc: 0.8975 - val_loss: 1.4315 - val_acc: 0.6641\n",
            "Epoch 49/100\n",
            "8/8 [==============================] - 20s 3s/step - loss: 0.2422 - acc: 0.9032 - val_loss: 2.7403 - val_acc: 0.5312\n",
            "Epoch 50/100\n",
            "8/8 [==============================] - 20s 3s/step - loss: 0.2521 - acc: 0.8843 - val_loss: 1.7892 - val_acc: 0.6289\n",
            "Epoch 51/100\n",
            "8/8 [==============================] - 20s 2s/step - loss: 0.2489 - acc: 0.8732 - val_loss: 1.1590 - val_acc: 0.6992\n",
            "Epoch 52/100\n",
            "8/8 [==============================] - 17s 2s/step - loss: 0.2672 - acc: 0.9005 - val_loss: 0.8709 - val_acc: 0.7383\n",
            "Epoch 53/100\n",
            "8/8 [==============================] - 22s 3s/step - loss: 0.2100 - acc: 0.9209 - val_loss: 1.2213 - val_acc: 0.7070\n",
            "Epoch 54/100\n",
            "8/8 [==============================] - 20s 2s/step - loss: 0.2120 - acc: 0.9121 - val_loss: 0.7016 - val_acc: 0.7656\n",
            "Epoch 55/100\n",
            "8/8 [==============================] - 22s 3s/step - loss: 0.2091 - acc: 0.9131 - val_loss: 1.9196 - val_acc: 0.6328\n",
            "Epoch 56/100\n",
            "8/8 [==============================] - 18s 2s/step - loss: 0.2232 - acc: 0.8643 - val_loss: 1.1987 - val_acc: 0.7031\n",
            "Epoch 57/100\n",
            "8/8 [==============================] - 20s 2s/step - loss: 0.1921 - acc: 0.9188 - val_loss: 1.5961 - val_acc: 0.6758\n",
            "Epoch 58/100\n",
            "8/8 [==============================] - 19s 2s/step - loss: 0.2830 - acc: 0.8732 - val_loss: 1.3775 - val_acc: 0.6836\n",
            "Epoch 59/100\n",
            "8/8 [==============================] - 22s 3s/step - loss: 0.1887 - acc: 0.9248 - val_loss: 1.9438 - val_acc: 0.6328\n",
            "Epoch 60/100\n",
            "8/8 [==============================] - 19s 2s/step - loss: 0.2433 - acc: 0.9032 - val_loss: 1.4290 - val_acc: 0.6992\n",
            "Epoch 61/100\n",
            "8/8 [==============================] - 17s 2s/step - loss: 0.2063 - acc: 0.8992 - val_loss: 2.3958 - val_acc: 0.5703\n",
            "Epoch 62/100\n",
            "8/8 [==============================] - 22s 3s/step - loss: 0.2007 - acc: 0.9180 - val_loss: 2.4236 - val_acc: 0.5664\n",
            "Epoch 63/100\n",
            "8/8 [==============================] - 19s 2s/step - loss: 0.1838 - acc: 0.9255 - val_loss: 1.7120 - val_acc: 0.6797\n",
            "Epoch 64/100\n",
            "8/8 [==============================] - 22s 3s/step - loss: 0.2047 - acc: 0.9023 - val_loss: 2.0333 - val_acc: 0.6406\n",
            "Epoch 65/100\n",
            "8/8 [==============================] - 18s 2s/step - loss: 0.2136 - acc: 0.9031 - val_loss: 1.6772 - val_acc: 0.6562\n",
            "Epoch 66/100\n",
            "8/8 [==============================] - 19s 2s/step - loss: 0.2270 - acc: 0.9155 - val_loss: 1.5693 - val_acc: 0.6758\n",
            "Epoch 67/100\n",
            "8/8 [==============================] - 22s 3s/step - loss: 0.1739 - acc: 0.9316 - val_loss: 2.1415 - val_acc: 0.6484\n",
            "Epoch 68/100\n",
            "8/8 [==============================] - 19s 2s/step - loss: 0.1586 - acc: 0.9277 - val_loss: 0.5413 - val_acc: 0.8359\n",
            "Epoch 69/100\n",
            "8/8 [==============================] - 19s 2s/step - loss: 0.2128 - acc: 0.9199 - val_loss: 1.6101 - val_acc: 0.6875\n",
            "Epoch 70/100\n",
            "8/8 [==============================] - 20s 2s/step - loss: 0.1403 - acc: 0.9333 - val_loss: 0.8921 - val_acc: 0.7578\n",
            "Epoch 71/100\n",
            "8/8 [==============================] - 20s 2s/step - loss: 0.3185 - acc: 0.8888 - val_loss: 1.7228 - val_acc: 0.6602\n",
            "Epoch 72/100\n",
            "8/8 [==============================] - 20s 2s/step - loss: 0.1218 - acc: 0.9622 - val_loss: 2.0133 - val_acc: 0.6523\n",
            "Epoch 73/100\n",
            "8/8 [==============================] - 20s 2s/step - loss: 0.1407 - acc: 0.9399 - val_loss: 1.3857 - val_acc: 0.7266\n",
            "Epoch 74/100\n",
            "8/8 [==============================] - 22s 3s/step - loss: 0.1759 - acc: 0.9238 - val_loss: 1.2822 - val_acc: 0.7305\n",
            "Epoch 75/100\n",
            "8/8 [==============================] - 17s 2s/step - loss: 0.1521 - acc: 0.9225 - val_loss: 1.5584 - val_acc: 0.7070\n",
            "Epoch 76/100\n",
            "8/8 [==============================] - 22s 3s/step - loss: 0.1352 - acc: 0.9492 - val_loss: 2.9675 - val_acc: 0.5898\n",
            "Epoch 77/100\n",
            "8/8 [==============================] - 20s 2s/step - loss: 0.1967 - acc: 0.9099 - val_loss: 2.1756 - val_acc: 0.6445\n",
            "Epoch 78/100\n",
            "8/8 [==============================] - 20s 2s/step - loss: 0.2037 - acc: 0.9199 - val_loss: 1.3617 - val_acc: 0.7070\n",
            "Epoch 79/100\n",
            "8/8 [==============================] - 20s 2s/step - loss: 0.1102 - acc: 0.9633 - val_loss: 1.5245 - val_acc: 0.7109\n",
            "Epoch 80/100\n",
            "8/8 [==============================] - 20s 2s/step - loss: 0.1674 - acc: 0.9333 - val_loss: 2.7665 - val_acc: 0.6250\n",
            "Epoch 81/100\n",
            "8/8 [==============================] - 20s 2s/step - loss: 0.2065 - acc: 0.9177 - val_loss: 1.6591 - val_acc: 0.6914\n",
            "Epoch 82/100\n",
            "8/8 [==============================] - 20s 2s/step - loss: 0.1332 - acc: 0.9444 - val_loss: 1.4429 - val_acc: 0.7148\n",
            "Epoch 83/100\n",
            "8/8 [==============================] - 20s 2s/step - loss: 0.1482 - acc: 0.9388 - val_loss: 2.0116 - val_acc: 0.6680\n",
            "Epoch 84/100\n",
            "8/8 [==============================] - 19s 2s/step - loss: 0.1195 - acc: 0.9555 - val_loss: 1.7896 - val_acc: 0.6914\n",
            "Epoch 85/100\n",
            "8/8 [==============================] - 20s 2s/step - loss: 0.1649 - acc: 0.9377 - val_loss: 1.1859 - val_acc: 0.7344\n",
            "Epoch 86/100\n",
            "8/8 [==============================] - 22s 3s/step - loss: 0.1281 - acc: 0.9551 - val_loss: 2.3551 - val_acc: 0.6445\n",
            "Epoch 87/100\n",
            "8/8 [==============================] - 17s 2s/step - loss: 0.1380 - acc: 0.9251 - val_loss: 2.0800 - val_acc: 0.6602\n",
            "Epoch 88/100\n",
            "8/8 [==============================] - 22s 3s/step - loss: 0.1605 - acc: 0.9414 - val_loss: 1.6396 - val_acc: 0.6953\n",
            "Epoch 89/100\n",
            "8/8 [==============================] - 20s 2s/step - loss: 0.2317 - acc: 0.9077 - val_loss: 1.6450 - val_acc: 0.6797\n",
            "Epoch 90/100\n",
            "8/8 [==============================] - 20s 2s/step - loss: 0.1165 - acc: 0.9533 - val_loss: 2.5318 - val_acc: 0.6289\n",
            "Epoch 91/100\n",
            "8/8 [==============================] - 20s 2s/step - loss: 0.1854 - acc: 0.9444 - val_loss: 1.7637 - val_acc: 0.6875\n",
            "Epoch 92/100\n",
            "8/8 [==============================] - 20s 2s/step - loss: 0.1322 - acc: 0.9444 - val_loss: 1.9399 - val_acc: 0.6719\n",
            "Epoch 93/100\n",
            "8/8 [==============================] - 20s 2s/step - loss: 0.1964 - acc: 0.9221 - val_loss: 1.6315 - val_acc: 0.6914\n",
            "Epoch 94/100\n",
            "8/8 [==============================] - 22s 3s/step - loss: 0.1152 - acc: 0.9541 - val_loss: 2.0859 - val_acc: 0.6797\n",
            "Epoch 95/100\n",
            "8/8 [==============================] - 20s 2s/step - loss: 0.1101 - acc: 0.9522 - val_loss: 2.1497 - val_acc: 0.6758\n",
            "Epoch 96/100\n",
            "8/8 [==============================] - 20s 2s/step - loss: 0.1572 - acc: 0.9333 - val_loss: 0.7548 - val_acc: 0.7930\n",
            "Epoch 97/100\n",
            "8/8 [==============================] - 20s 3s/step - loss: 0.1071 - acc: 0.9577 - val_loss: 1.9863 - val_acc: 0.6914\n",
            "Epoch 98/100\n",
            "8/8 [==============================] - 20s 2s/step - loss: 0.1498 - acc: 0.9366 - val_loss: 1.8813 - val_acc: 0.6875\n",
            "Epoch 99/100\n",
            "8/8 [==============================] - 20s 2s/step - loss: 0.0995 - acc: 0.9644 - val_loss: 3.4099 - val_acc: 0.6016\n",
            "Epoch 100/100\n",
            "8/8 [==============================] - 20s 2s/step - loss: 0.1027 - acc: 0.9544 - val_loss: 4.2883 - val_acc: 0.5742\n"
          ],
          "name": "stdout"
        }
      ]
    },
    {
      "cell_type": "code",
      "metadata": {
        "id": "7zNPRWOVJdOH",
        "colab_type": "code",
        "colab": {
          "base_uri": "https://localhost:8080/",
          "height": 545
        },
        "outputId": "13ad0093-58b6-405e-aa5e-f8bab418986b"
      },
      "source": [
        "import matplotlib.pyplot as plt\n",
        "acc = history.history['acc']\n",
        "val_acc = history.history['val_acc']\n",
        "loss = history.history['loss']\n",
        "val_loss = history.history['val_loss']\n",
        "\n",
        "epochs = range(len(acc))\n",
        "\n",
        "plt.plot(epochs, acc, 'r', label='Training accuracy')\n",
        "plt.plot(epochs, val_acc, 'b', label='Validation accuracy')\n",
        "plt.title('Training and validation accuracy')\n",
        "\n",
        "plt.figure()\n",
        "\n",
        "plt.plot(epochs, loss, 'r', label='Training Loss')\n",
        "plt.plot(epochs, val_loss, 'b', label='Validation Loss')\n",
        "plt.title('Training and validation loss')\n",
        "plt.legend()\n",
        "\n",
        "plt.show()"
      ],
      "execution_count": 7,
      "outputs": [
        {
          "output_type": "display_data",
          "data": {
            "image/png": "[encoded data removed]",
            "text/plain": [
              "<Figure size 432x288 with 1 Axes>"
            ]
          },
          "metadata": {
            "tags": []
          }
        },
        {
          "output_type": "display_data",
          "data": {
            "image/png": "[encoded data removed]",
            "text/plain": [
              "<Figure size 432x288 with 1 Axes>"
            ]
          },
          "metadata": {
            "tags": []
          }
        }
      ]
    },
    {
      "cell_type": "code",
      "metadata": {
        "id": "Vd0FBs5In9xF",
        "colab_type": "code",
        "colab": {}
      },
      "source": [
        ""
      ],
      "execution_count": 0,
      "outputs": []
    }
  ]
}