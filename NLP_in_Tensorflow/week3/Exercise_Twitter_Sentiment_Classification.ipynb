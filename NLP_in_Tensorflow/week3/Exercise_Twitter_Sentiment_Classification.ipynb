{
  "nbformat": 4,
  "nbformat_minor": 0,
  "metadata": {
    "colab": {
      "name": "NLP Course - Week 3 Exercise Question.ipynb",
      "version": "0.3.2",
      "provenance": []
    },
    "kernelspec": {
      "name": "python3",
      "display_name": "Python 3"
    },
    "accelerator": "GPU"
  },
  "cells": [
    {
      "cell_type": "code",
      "metadata": {
        "id": "hmA6EzkQJ5jt",
        "colab_type": "code",
        "colab": {}
      },
      "source": [
        "import json\n",
        "import tensorflow as tf\n",
        "import csv\n",
        "import random\n",
        "import numpy as np\n",
        "\n",
        "from tensorflow.keras.preprocessing.text import Tokenizer\n",
        "from tensorflow.keras.preprocessing.sequence import pad_sequences\n",
        "from tensorflow.keras.utils import to_categorical\n",
        "from tensorflow.keras import regularizers\n",
        "\n",
        "\n",
        "embedding_dim = 100\n",
        "max_length = 16\n",
        "trunc_type='post'\n",
        "padding_type='post'\n",
        "oov_tok = \"<OOV>\"\n",
        "training_size= 160000 #Your dataset size here. Experiment using smaller values (i.e. 16000), but don't forget to train on at least 160000 to see the best effects\n",
        "test_portion=.1\n",
        "\n",
        "corpus = []\n"
      ],
      "execution_count": 0,
      "outputs": []
    },
    {
      "cell_type": "code",
      "metadata": {
        "id": "bM0l_dORKqE0",
        "colab_type": "code",
        "outputId": "70cfa936-e2d0-493a-db74-463e0639896b",
        "colab": {
          "base_uri": "https://localhost:8080/",
          "height": 204
        }
      },
      "source": [
        "# Note that I cleaned the Stanford dataset to remove LATIN1 encoding to make it easier for Python CSV reader\n",
        "# You can do that yourself with:\n",
        "# iconv -f LATIN1 -t UTF8 training.1600000.processed.noemoticon.csv -o training_cleaned.csv\n",
        "# I then hosted it on my site to make it easier to use in this notebook\n",
        "\n",
        "!wget --no-check-certificate \\\n",
        "    https://storage.googleapis.com/laurencemoroney-blog.appspot.com/training_cleaned.csv \\\n",
        "    -O /tmp/training_cleaned.csv\n",
        "\n",
        "num_sentences = 0\n",
        "\n",
        "with open(\"/tmp/training_cleaned.csv\") as csvfile:\n",
        "    reader = csv.reader(csvfile, delimiter=',')\n",
        "    for row in reader:\n",
        "      # Your Code here. Create list items where the first item is the text, found in row[5], and the second is the label. Note that the label is a '0' or a '4' in the text. When it's the former, make\n",
        "      # your label to be 0, otherwise 1. Keep a count of the number of sentences in num_sentences\n",
        "      list_item=[]\n",
        "      # YOUR CODE HERE\n",
        "      list_item.append(row[5])\n",
        "      if(row[0]=='0'):\n",
        "        list_item.append(0)\n",
        "      else:\n",
        "        list_item.append(1)\n",
        "      num_sentences = num_sentences + 1\n",
        "      corpus.append(list_item)\n",
        "\n",
        "\n"
      ],
      "execution_count": 2,
      "outputs": [
        {
          "output_type": "stream",
          "text": [
            "--2019-07-26 05:02:30--  https://storage.googleapis.com/laurencemoroney-blog.appspot.com/training_cleaned.csv\n",
            "Resolving storage.googleapis.com (storage.googleapis.com)... 74.125.141.128, 2607:f8b0:400c:c06::80\n",
            "Connecting to storage.googleapis.com (storage.googleapis.com)|74.125.141.128|:443... connected.\n",
            "HTTP request sent, awaiting response... 200 OK\n",
            "Length: 238942690 (228M) [application/octet-stream]\n",
            "Saving to: ‘/tmp/training_cleaned.csv’\n",
            "\n",
            "/tmp/training_clean 100%[===================>] 227.87M   134MB/s    in 1.7s    \n",
            "\n",
            "2019-07-26 05:02:32 (134 MB/s) - ‘/tmp/training_cleaned.csv’ saved [238942690/238942690]\n",
            "\n"
          ],
          "name": "stdout"
        }
      ]
    },
    {
      "cell_type": "code",
      "metadata": {
        "id": "3kxblBUjEUX-",
        "colab_type": "code",
        "outputId": "6e66c3fe-0b90-4157-b737-ae287306beef",
        "colab": {
          "base_uri": "https://localhost:8080/",
          "height": 68
        }
      },
      "source": [
        "print(num_sentences)\n",
        "print(len(corpus))\n",
        "print(corpus[1])\n",
        "\n",
        "# Expected Output:\n",
        "# 1600000\n",
        "# 1600000\n",
        "# [\"is upset that he can't update his Facebook by texting it... and might cry as a result  School today also. Blah!\", 0]"
      ],
      "execution_count": 3,
      "outputs": [
        {
          "output_type": "stream",
          "text": [
            "1600000\n",
            "1600000\n",
            "[\"is upset that he can't update his Facebook by texting it... and might cry as a result  School today also. Blah!\", 0]\n"
          ],
          "name": "stdout"
        }
      ]
    },
    {
      "cell_type": "code",
      "metadata": {
        "id": "ohOGz24lsNAD",
        "colab_type": "code",
        "colab": {}
      },
      "source": [
        "sentences=[]\n",
        "labels=[]\n",
        "random.shuffle(corpus)\n",
        "for x in range(training_size):\n",
        "    sentences.append(corpus[x][0])# YOUR CODE HERE\n",
        "    labels.append(corpus[x][1])# YOUR CODE HERE\n",
        "\n",
        "\n",
        "tokenizer = Tokenizer()\n",
        "tokenizer.fit_on_texts(sentences)# YOUR CODE HERE\n",
        "\n",
        "word_index = tokenizer.word_index\n",
        "vocab_size=len(word_index) # YOUR CODE HERE\n",
        "\n",
        "sequences = tokenizer.texts_to_sequences(sentences) # YOUR CODE HERE\n",
        "padded = pad_sequences(sequences, maxlen = max_length, padding=padding_type, truncating=trunc_type) # YOUR CODE HERE\n",
        "\n",
        "split = int(test_portion * training_size)\n",
        "\n",
        "test_sequences = padded[:split]# YOUR CODE HERE\n",
        "training_sequences = padded[split:]# YOUR CODE HERE\n",
        "test_labels = labels[:split]# YOUR CODE HERE\n",
        "training_labels = labels[split:]# YOUR CODE HERE"
      ],
      "execution_count": 0,
      "outputs": []
    },
    {
      "cell_type": "code",
      "metadata": {
        "id": "gIrtRem1En3N",
        "colab_type": "code",
        "outputId": "7d69eb1c-464f-46b6-d2e9-3a66d479feaf",
        "colab": {
          "base_uri": "https://localhost:8080/",
          "height": 51
        }
      },
      "source": [
        "print(vocab_size)\n",
        "print(word_index['i'])\n",
        "# Expected Output\n",
        "# 138858\n",
        "# 1"
      ],
      "execution_count": 5,
      "outputs": [
        {
          "output_type": "stream",
          "text": [
            "138445\n",
            "1\n"
          ],
          "name": "stdout"
        }
      ]
    },
    {
      "cell_type": "code",
      "metadata": {
        "id": "C1zdgJkusRh0",
        "colab_type": "code",
        "outputId": "7d352be5-2c32-44ba-cda2-e885dcd866d3",
        "colab": {
          "base_uri": "https://localhost:8080/",
          "height": 204
        }
      },
      "source": [
        "# Note this is the 100 dimension version of GloVe from Stanford\n",
        "# I unzipped and hosted it on my site to make this notebook easier\n",
        "!wget --no-check-certificate \\\n",
        "    https://storage.googleapis.com/laurencemoroney-blog.appspot.com/glove.6B.100d.txt \\\n",
        "    -O /tmp/glove.6B.100d.txt\n",
        "embeddings_index = {};\n",
        "with open('/tmp/glove.6B.100d.txt') as f:\n",
        "    for line in f:\n",
        "        values = line.split();\n",
        "        word = values[0];\n",
        "        coefs = np.asarray(values[1:], dtype='float32');\n",
        "        embeddings_index[word] = coefs;\n",
        "\n",
        "embeddings_matrix = np.zeros((vocab_size+1, embedding_dim));\n",
        "for word, i in word_index.items():\n",
        "    embedding_vector = embeddings_index.get(word);\n",
        "    if embedding_vector is not None:\n",
        "        embeddings_matrix[i] = embedding_vector;"
      ],
      "execution_count": 6,
      "outputs": [
        {
          "output_type": "stream",
          "text": [
            "--2019-07-26 05:03:34--  https://storage.googleapis.com/laurencemoroney-blog.appspot.com/glove.6B.100d.txt\n",
            "Resolving storage.googleapis.com (storage.googleapis.com)... 74.125.141.128, 2607:f8b0:400c:c06::80\n",
            "Connecting to storage.googleapis.com (storage.googleapis.com)|74.125.141.128|:443... connected.\n",
            "HTTP request sent, awaiting response... 200 OK\n",
            "Length: 347116733 (331M) [text/plain]\n",
            "Saving to: ‘/tmp/glove.6B.100d.txt’\n",
            "\n",
            "/tmp/glove.6B.100d. 100%[===================>] 331.04M   135MB/s    in 2.5s    \n",
            "\n",
            "2019-07-26 05:03:37 (135 MB/s) - ‘/tmp/glove.6B.100d.txt’ saved [347116733/347116733]\n",
            "\n"
          ],
          "name": "stdout"
        }
      ]
    },
    {
      "cell_type": "code",
      "metadata": {
        "id": "71NLk_lpFLNt",
        "colab_type": "code",
        "outputId": "8fa8ba8e-5b85-40e7-a11b-caa70880dd16",
        "colab": {
          "base_uri": "https://localhost:8080/",
          "height": 34
        }
      },
      "source": [
        "print(len(embeddings_matrix))\n",
        "# Expected Output\n",
        "# 138859"
      ],
      "execution_count": 7,
      "outputs": [
        {
          "output_type": "stream",
          "text": [
            "138446\n"
          ],
          "name": "stdout"
        }
      ]
    },
    {
      "cell_type": "code",
      "metadata": {
        "colab_type": "code",
        "id": "iKKvbuEBOGFz",
        "colab": {
          "base_uri": "https://localhost:8080/",
          "height": 1000
        },
        "outputId": "1f80c506-e259-4c1a-ebba-effc2edf1593"
      },
      "source": [
        "model = tf.keras.Sequential([\n",
        "    tf.keras.layers.Embedding(vocab_size+1, embedding_dim, input_length=max_length, weights=[embeddings_matrix], trainable=False),\n",
        "    # YOUR CODE HERE - experiment with combining different types, such as convolutions and LSTMs\n",
        "    tf.keras.layers.Bidirectional(tf.keras.layers.LSTM(64)),\n",
        "    tf.keras.layers.Dense(64, activation='relu'),\n",
        "    tf.keras.layers.Dense(1, activation='sigmoid')\n",
        "])\n",
        "adam = tf.train.AdamOptimizer(learning_rate=0.01)\n",
        "model.compile(loss = 'binary_crossentropy',optimizer=adam, metrics=['acc'])# YOUR CODE HERE)\n",
        "model.summary()\n",
        "\n",
        "num_epochs = 50\n",
        "history = model.fit(training_sequences, training_labels, epochs=num_epochs, validation_data=(test_sequences, test_labels), verbose=2)\n",
        "\n",
        "print(\"Training Complete\")\n"
      ],
      "execution_count": 8,
      "outputs": [
        {
          "output_type": "stream",
          "text": [
            "WARNING: Logging before flag parsing goes to stderr.\n",
            "W0726 05:03:49.694280 140682504591232 deprecation.py:506] From /usr/local/lib/python3.6/dist-packages/tensorflow/python/keras/initializers.py:119: calling RandomUniform.__init__ (from tensorflow.python.ops.init_ops) with dtype is deprecated and will be removed in a future version.\n",
            "Instructions for updating:\n",
            "Call initializer instance with the dtype argument instead of passing it to the constructor\n",
            "W0726 05:03:49.698579 140682504591232 deprecation.py:506] From /usr/local/lib/python3.6/dist-packages/tensorflow/python/ops/init_ops.py:1251: calling VarianceScaling.__init__ (from tensorflow.python.ops.init_ops) with dtype is deprecated and will be removed in a future version.\n",
            "Instructions for updating:\n",
            "Call initializer instance with the dtype argument instead of passing it to the constructor\n",
            "W0726 05:03:49.708216 140682504591232 deprecation.py:506] From /usr/local/lib/python3.6/dist-packages/tensorflow/python/ops/init_ops.py:97: calling GlorotUniform.__init__ (from tensorflow.python.ops.init_ops) with dtype is deprecated and will be removed in a future version.\n",
            "Instructions for updating:\n",
            "Call initializer instance with the dtype argument instead of passing it to the constructor\n",
            "W0726 05:03:49.709490 140682504591232 deprecation.py:506] From /usr/local/lib/python3.6/dist-packages/tensorflow/python/ops/init_ops.py:97: calling Orthogonal.__init__ (from tensorflow.python.ops.init_ops) with dtype is deprecated and will be removed in a future version.\n",
            "Instructions for updating:\n",
            "Call initializer instance with the dtype argument instead of passing it to the constructor\n",
            "W0726 05:03:49.711534 140682504591232 deprecation.py:506] From /usr/local/lib/python3.6/dist-packages/tensorflow/python/ops/init_ops.py:97: calling Zeros.__init__ (from tensorflow.python.ops.init_ops) with dtype is deprecated and will be removed in a future version.\n",
            "Instructions for updating:\n",
            "Call initializer instance with the dtype argument instead of passing it to the constructor\n",
            "W0726 05:03:53.310124 140682504591232 deprecation.py:323] From /usr/local/lib/python3.6/dist-packages/tensorflow/python/ops/nn_impl.py:180: add_dispatch_support.<locals>.wrapper (from tensorflow.python.ops.array_ops) is deprecated and will be removed in a future version.\n",
            "Instructions for updating:\n",
            "Use tf.where in 2.0, which has the same broadcast rule as np.where\n"
          ],
          "name": "stderr"
        },
        {
          "output_type": "stream",
          "text": [
            "Model: \"sequential\"\n",
            "_________________________________________________________________\n",
            "Layer (type)                 Output Shape              Param #   \n",
            "=================================================================\n",
            "embedding (Embedding)        (None, 16, 100)           13844600  \n",
            "_________________________________________________________________\n",
            "bidirectional (Bidirectional (None, 128)               84480     \n",
            "_________________________________________________________________\n",
            "dense (Dense)                (None, 64)                8256      \n",
            "_________________________________________________________________\n",
            "dense_1 (Dense)              (None, 1)                 65        \n",
            "=================================================================\n",
            "Total params: 13,937,401\n",
            "Trainable params: 92,801\n",
            "Non-trainable params: 13,844,600\n",
            "_________________________________________________________________\n",
            "Train on 144000 samples, validate on 16000 samples\n",
            "Epoch 1/50\n",
            "144000/144000 - 245s - loss: 0.5355 - acc: 0.7279 - val_loss: 0.5103 - val_acc: 0.7416\n",
            "Epoch 2/50\n",
            "144000/144000 - 247s - loss: 0.5044 - acc: 0.7510 - val_loss: 0.5076 - val_acc: 0.7496\n",
            "Epoch 3/50\n",
            "144000/144000 - 247s - loss: 0.4961 - acc: 0.7552 - val_loss: 0.5009 - val_acc: 0.7510\n",
            "Epoch 4/50\n",
            "144000/144000 - 249s - loss: 0.4881 - acc: 0.7624 - val_loss: 0.4988 - val_acc: 0.7555\n",
            "Epoch 5/50\n",
            "144000/144000 - 249s - loss: 0.4833 - acc: 0.7654 - val_loss: 0.4926 - val_acc: 0.7574\n",
            "Epoch 6/50\n",
            "144000/144000 - 249s - loss: 0.4797 - acc: 0.7675 - val_loss: 0.4976 - val_acc: 0.7560\n",
            "Epoch 7/50\n",
            "144000/144000 - 249s - loss: 0.4767 - acc: 0.7694 - val_loss: 0.4959 - val_acc: 0.7556\n",
            "Epoch 8/50\n",
            "144000/144000 - 248s - loss: 0.4739 - acc: 0.7714 - val_loss: 0.4986 - val_acc: 0.7527\n",
            "Epoch 9/50\n",
            "144000/144000 - 248s - loss: 0.4754 - acc: 0.7693 - val_loss: 0.5049 - val_acc: 0.7507\n",
            "Epoch 10/50\n",
            "144000/144000 - 251s - loss: 0.4790 - acc: 0.7672 - val_loss: 0.5137 - val_acc: 0.7538\n",
            "Epoch 11/50\n",
            "144000/144000 - 250s - loss: 0.4897 - acc: 0.7600 - val_loss: 0.5121 - val_acc: 0.7456\n",
            "Epoch 12/50\n",
            "144000/144000 - 251s - loss: 0.4889 - acc: 0.7612 - val_loss: 0.5105 - val_acc: 0.7465\n",
            "Epoch 13/50\n",
            "144000/144000 - 251s - loss: 0.4908 - acc: 0.7600 - val_loss: 0.5105 - val_acc: 0.7522\n",
            "Epoch 14/50\n",
            "144000/144000 - 250s - loss: 0.4900 - acc: 0.7616 - val_loss: 0.5079 - val_acc: 0.7505\n",
            "Epoch 15/50\n",
            "144000/144000 - 250s - loss: 0.4885 - acc: 0.7619 - val_loss: 0.5136 - val_acc: 0.7523\n",
            "Epoch 16/50\n",
            "144000/144000 - 250s - loss: 0.4870 - acc: 0.7625 - val_loss: 0.5036 - val_acc: 0.7542\n",
            "Epoch 17/50\n",
            "144000/144000 - 251s - loss: 0.4862 - acc: 0.7626 - val_loss: 0.5151 - val_acc: 0.7482\n",
            "Epoch 18/50\n",
            "144000/144000 - 250s - loss: 0.4877 - acc: 0.7623 - val_loss: 0.5107 - val_acc: 0.7484\n",
            "Epoch 19/50\n",
            "144000/144000 - 251s - loss: 0.4856 - acc: 0.7632 - val_loss: 0.5114 - val_acc: 0.7479\n",
            "Epoch 20/50\n",
            "144000/144000 - 250s - loss: 0.4858 - acc: 0.7651 - val_loss: 0.5125 - val_acc: 0.7484\n",
            "Epoch 21/50\n",
            "144000/144000 - 246s - loss: 0.4891 - acc: 0.7625 - val_loss: 0.5118 - val_acc: 0.7523\n",
            "Epoch 22/50\n",
            "144000/144000 - 243s - loss: 0.4878 - acc: 0.7628 - val_loss: 0.5092 - val_acc: 0.7524\n",
            "Epoch 23/50\n",
            "144000/144000 - 243s - loss: 0.4873 - acc: 0.7621 - val_loss: 0.5144 - val_acc: 0.7523\n",
            "Epoch 24/50\n",
            "144000/144000 - 244s - loss: 0.4881 - acc: 0.7634 - val_loss: 0.5191 - val_acc: 0.7467\n",
            "Epoch 25/50\n",
            "144000/144000 - 244s - loss: 0.4904 - acc: 0.7613 - val_loss: 0.5141 - val_acc: 0.7508\n",
            "Epoch 26/50\n",
            "144000/144000 - 245s - loss: 0.4897 - acc: 0.7620 - val_loss: 0.5134 - val_acc: 0.7512\n",
            "Epoch 27/50\n",
            "144000/144000 - 246s - loss: 0.4857 - acc: 0.7645 - val_loss: 0.5167 - val_acc: 0.7470\n",
            "Epoch 28/50\n",
            "144000/144000 - 245s - loss: 0.4873 - acc: 0.7632 - val_loss: 0.5104 - val_acc: 0.7469\n",
            "Epoch 29/50\n",
            "144000/144000 - 244s - loss: 0.4879 - acc: 0.7633 - val_loss: 0.5115 - val_acc: 0.7515\n",
            "Epoch 30/50\n",
            "144000/144000 - 246s - loss: 0.4893 - acc: 0.7618 - val_loss: 0.5191 - val_acc: 0.7483\n",
            "Epoch 31/50\n",
            "144000/144000 - 245s - loss: 0.4872 - acc: 0.7635 - val_loss: 0.5126 - val_acc: 0.7504\n",
            "Epoch 32/50\n",
            "144000/144000 - 247s - loss: 0.4876 - acc: 0.7622 - val_loss: 0.5178 - val_acc: 0.7472\n",
            "Epoch 33/50\n",
            "144000/144000 - 246s - loss: 0.4877 - acc: 0.7638 - val_loss: 0.5064 - val_acc: 0.7508\n",
            "Epoch 34/50\n",
            "144000/144000 - 247s - loss: 0.4859 - acc: 0.7637 - val_loss: 0.5092 - val_acc: 0.7516\n",
            "Epoch 35/50\n",
            "144000/144000 - 249s - loss: 0.4850 - acc: 0.7635 - val_loss: 0.5190 - val_acc: 0.7521\n",
            "Epoch 36/50\n",
            "144000/144000 - 251s - loss: 0.4884 - acc: 0.7614 - val_loss: 0.5180 - val_acc: 0.7469\n",
            "Epoch 37/50\n",
            "144000/144000 - 250s - loss: 0.4865 - acc: 0.7638 - val_loss: 0.5104 - val_acc: 0.7531\n",
            "Epoch 38/50\n",
            "144000/144000 - 252s - loss: 0.4880 - acc: 0.7629 - val_loss: 0.5066 - val_acc: 0.7491\n",
            "Epoch 39/50\n",
            "144000/144000 - 252s - loss: 0.4861 - acc: 0.7639 - val_loss: 0.5062 - val_acc: 0.7509\n",
            "Epoch 40/50\n",
            "144000/144000 - 252s - loss: 0.4856 - acc: 0.7643 - val_loss: 0.5065 - val_acc: 0.7519\n",
            "Epoch 41/50\n",
            "144000/144000 - 250s - loss: 0.4874 - acc: 0.7633 - val_loss: 0.5076 - val_acc: 0.7454\n",
            "Epoch 42/50\n",
            "144000/144000 - 251s - loss: 0.4866 - acc: 0.7635 - val_loss: 0.5101 - val_acc: 0.7515\n",
            "Epoch 43/50\n",
            "144000/144000 - 251s - loss: 0.4870 - acc: 0.7629 - val_loss: 0.5114 - val_acc: 0.7464\n",
            "Epoch 44/50\n",
            "144000/144000 - 251s - loss: 0.4863 - acc: 0.7634 - val_loss: 0.5156 - val_acc: 0.7477\n",
            "Epoch 45/50\n",
            "144000/144000 - 250s - loss: 0.4863 - acc: 0.7628 - val_loss: 0.5204 - val_acc: 0.7520\n",
            "Epoch 46/50\n",
            "144000/144000 - 251s - loss: 0.4864 - acc: 0.7638 - val_loss: 0.5112 - val_acc: 0.7473\n",
            "Epoch 47/50\n",
            "144000/144000 - 252s - loss: 0.4847 - acc: 0.7641 - val_loss: 0.5078 - val_acc: 0.7516\n",
            "Epoch 48/50\n",
            "144000/144000 - 251s - loss: 0.4847 - acc: 0.7633 - val_loss: 0.5158 - val_acc: 0.7538\n",
            "Epoch 49/50\n",
            "144000/144000 - 245s - loss: 0.4842 - acc: 0.7647 - val_loss: 0.5100 - val_acc: 0.7521\n",
            "Epoch 50/50\n",
            "144000/144000 - 244s - loss: 0.4843 - acc: 0.7644 - val_loss: 0.5145 - val_acc: 0.7501\n",
            "Training Complete\n"
          ],
          "name": "stdout"
        }
      ]
    },
    {
      "cell_type": "code",
      "metadata": {
        "id": "qxju4ItJKO8F",
        "colab_type": "code",
        "colab": {
          "base_uri": "https://localhost:8080/",
          "height": 607
        },
        "outputId": "722289c6-7950-40b9-c159-5e541847b3d6"
      },
      "source": [
        "import matplotlib.image  as mpimg\n",
        "import matplotlib.pyplot as plt\n",
        "\n",
        "#-----------------------------------------------------------\n",
        "# Retrieve a list of list results on training and test data\n",
        "# sets for each training epoch\n",
        "#-----------------------------------------------------------\n",
        "acc=history.history['acc']\n",
        "val_acc=history.history['val_acc']\n",
        "loss=history.history['loss']\n",
        "val_loss=history.history['val_loss']\n",
        "\n",
        "epochs=range(len(acc)) # Get number of epochs\n",
        "\n",
        "#------------------------------------------------\n",
        "# Plot training and validation accuracy per epoch\n",
        "#------------------------------------------------\n",
        "plt.plot(epochs, acc, 'r')\n",
        "plt.plot(epochs, val_acc, 'b')\n",
        "plt.title('Training and validation accuracy')\n",
        "plt.xlabel(\"Epochs\")\n",
        "plt.ylabel(\"Accuracy\")\n",
        "plt.legend([\"Accuracy\", \"Validation Accuracy\"])\n",
        "\n",
        "plt.figure()\n",
        "\n",
        "#------------------------------------------------\n",
        "# Plot training and validation loss per epoch\n",
        "#------------------------------------------------\n",
        "plt.plot(epochs, loss, 'r')\n",
        "plt.plot(epochs, val_loss, 'b')\n",
        "plt.title('Training and validation loss')\n",
        "plt.xlabel(\"Epochs\")\n",
        "plt.ylabel(\"Loss\")\n",
        "plt.legend([\"Loss\", \"Validation Loss\"])\n",
        "\n",
        "plt.figure()\n",
        "\n",
        "\n",
        "# Expected Output\n",
        "# A chart where the validation loss does not increase sharply!"
      ],
      "execution_count": 9,
      "outputs": [
        {
          "output_type": "execute_result",
          "data": {
            "text/plain": [
              "<Figure size 432x288 with 0 Axes>"
            ]
          },
          "metadata": {
            "tags": []
          },
          "execution_count": 9
        },
        {
          "output_type": "display_data",
          "data": {
            "image/png": "[encoded data removed]",
            "text/plain": [
              "<Figure size 432x288 with 1 Axes>"
            ]
          },
          "metadata": {
            "tags": []
          }
        },
        {
          "output_type": "display_data",
          "data": {
            "image/png": "[encoded data removed]",
            "text/plain": [
              "<Figure size 432x288 with 1 Axes>"
            ]
          },
          "metadata": {
            "tags": []
          }
        },
        {
          "output_type": "display_data",
          "data": {
            "text/plain": [
              "<Figure size 432x288 with 0 Axes>"
            ]
          },
          "metadata": {
            "tags": []
          }
        }
      ]
    }
  ]
}