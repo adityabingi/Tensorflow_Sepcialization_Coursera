{
  "nbformat": 4,
  "nbformat_minor": 0,
  "metadata": {
    "colab": {
      "name": "NLP-Week4-Exercise-Shakespeare-Question.ipynb",
      "version": "0.3.2",
      "provenance": []
    },
    "kernelspec": {
      "name": "python3",
      "display_name": "Python 3"
    },
    "accelerator": "GPU"
  },
  "cells": [
    {
      "cell_type": "code",
      "metadata": {
        "id": "BOwsuGQQY9OL",
        "colab_type": "code",
        "colab": {}
      },
      "source": [
        "from tensorflow.keras.preprocessing.sequence import pad_sequences\n",
        "from tensorflow.keras.layers import Embedding, LSTM, Dense, Dropout, Bidirectional\n",
        "from tensorflow.keras.preprocessing.text import Tokenizer\n",
        "from tensorflow.keras.models import Sequential\n",
        "from tensorflow.keras.optimizers import Adam\n",
        "### YOUR CODE HERE\n",
        "# Figure out how to import regularizers\n",
        "from tensorflow.keras import regularizers\n",
        "###\n",
        "import tensorflow.keras.utils as ku \n",
        "import numpy as np "
      ],
      "execution_count": 0,
      "outputs": []
    },
    {
      "cell_type": "code",
      "metadata": {
        "colab_type": "code",
        "id": "PRnDnCW-Z7qv",
        "colab": {
          "base_uri": "https://localhost:8080/",
          "height": 204
        },
        "outputId": "3fe3ca94-c14c-411f-817c-3a8b117fee68"
      },
      "source": [
        "tokenizer = Tokenizer()\n",
        "!wget --no-check-certificate \\\n",
        "    https://storage.googleapis.com/laurencemoroney-blog.appspot.com/sonnets.txt \\\n",
        "    -O /tmp/sonnets.txt\n",
        "data = open('/tmp/sonnets.txt').read()\n",
        "\n",
        "corpus = data.lower().split(\"\\n\")\n",
        "\n",
        "\n",
        "tokenizer.fit_on_texts(corpus)\n",
        "total_words = len(tokenizer.word_index) + 1\n",
        "\n",
        "# create input sequences using list of tokens\n",
        "input_sequences = []\n",
        "for line in corpus:\n",
        "\ttoken_list = tokenizer.texts_to_sequences([line])[0]\n",
        "\tfor i in range(1, len(token_list)):\n",
        "\t\tn_gram_sequence = token_list[:i+1]\n",
        "\t\tinput_sequences.append(n_gram_sequence)\n",
        "\n",
        "\n",
        "# pad sequences \n",
        "max_sequence_len = max([len(x) for x in input_sequences])\n",
        "input_sequences = np.array(pad_sequences(input_sequences, maxlen=max_sequence_len, padding='pre'))\n",
        "\n",
        "# create predictors and label\n",
        "predictors, label = input_sequences[:,:-1],input_sequences[:,-1]\n",
        "\n",
        "label = ku.to_categorical(label, num_classes=total_words)"
      ],
      "execution_count": 2,
      "outputs": [
        {
          "output_type": "stream",
          "text": [
            "--2019-08-06 06:21:13--  https://storage.googleapis.com/laurencemoroney-blog.appspot.com/sonnets.txt\n",
            "Resolving storage.googleapis.com (storage.googleapis.com)... 74.125.23.128, 2404:6800:4008:c00::80\n",
            "Connecting to storage.googleapis.com (storage.googleapis.com)|74.125.23.128|:443... connected.\n",
            "HTTP request sent, awaiting response... 200 OK\n",
            "Length: 93578 (91K) [text/plain]\n",
            "Saving to: ‘/tmp/sonnets.txt’\n",
            "\n",
            "\r/tmp/sonnets.txt      0%[                    ]       0  --.-KB/s               \r/tmp/sonnets.txt    100%[===================>]  91.38K  --.-KB/s    in 0.001s  \n",
            "\n",
            "2019-08-06 06:21:13 (86.1 MB/s) - ‘/tmp/sonnets.txt’ saved [93578/93578]\n",
            "\n"
          ],
          "name": "stdout"
        }
      ]
    },
    {
      "cell_type": "code",
      "metadata": {
        "id": "Zt6FaxCHm5FB",
        "colab_type": "code",
        "colab": {
          "base_uri": "https://localhost:8080/",
          "height": 34
        },
        "outputId": "7b0d4c7d-4413-4a8d-c327-1b21d9778632"
      },
      "source": [
        "print(max_sequence_len)"
      ],
      "execution_count": 4,
      "outputs": [
        {
          "output_type": "stream",
          "text": [
            "11\n"
          ],
          "name": "stdout"
        }
      ]
    },
    {
      "cell_type": "code",
      "metadata": {
        "id": "w9vH8Y59ajYL",
        "colab_type": "code",
        "colab": {
          "base_uri": "https://localhost:8080/",
          "height": 666
        },
        "outputId": "2ae15f56-2bd8-44e2-da94-8834dd1a71bd"
      },
      "source": [
        "model = Sequential()\n",
        "model.add(Embedding(total_words, 100, input_length = max_sequence_len-1)) # Your Embedding Layer\n",
        "model.add(Bidirectional(LSTM(150, return_sequences=True)))# An LSTM Layer\n",
        "model.add(Dropout(0.2))# A dropout layer\n",
        "model.add(LSTM(100))# Another LSTM Layer\n",
        "model.add(Dense(total_words/2, activation='relu', kernel_regularizer = regularizers.l2()))# A Dense Layer including regularizers\n",
        "model.add(Dense(total_words, activation='softmax'))# A Dense Layer\n",
        "# Pick an optimizer\n",
        "model.compile(loss='categorical_crossentropy', optimizer=Adam(learning_rate=0.001),metrics=['acc'])# Pick a loss function and an optimizer\n",
        "print(model.summary())\n"
      ],
      "execution_count": 6,
      "outputs": [
        {
          "output_type": "stream",
          "text": [
            "WARNING: Logging before flag parsing goes to stderr.\n",
            "W0806 06:37:16.678089 140184390137728 deprecation.py:506] From /usr/local/lib/python3.6/dist-packages/tensorflow/python/keras/initializers.py:119: calling RandomUniform.__init__ (from tensorflow.python.ops.init_ops) with dtype is deprecated and will be removed in a future version.\n",
            "Instructions for updating:\n",
            "Call initializer instance with the dtype argument instead of passing it to the constructor\n",
            "W0806 06:37:16.712318 140184390137728 deprecation.py:506] From /usr/local/lib/python3.6/dist-packages/tensorflow/python/ops/init_ops.py:1251: calling VarianceScaling.__init__ (from tensorflow.python.ops.init_ops) with dtype is deprecated and will be removed in a future version.\n",
            "Instructions for updating:\n",
            "Call initializer instance with the dtype argument instead of passing it to the constructor\n",
            "W0806 06:37:16.720235 140184390137728 deprecation.py:506] From /usr/local/lib/python3.6/dist-packages/tensorflow/python/ops/init_ops.py:97: calling GlorotUniform.__init__ (from tensorflow.python.ops.init_ops) with dtype is deprecated and will be removed in a future version.\n",
            "Instructions for updating:\n",
            "Call initializer instance with the dtype argument instead of passing it to the constructor\n",
            "W0806 06:37:16.723216 140184390137728 deprecation.py:506] From /usr/local/lib/python3.6/dist-packages/tensorflow/python/ops/init_ops.py:97: calling Orthogonal.__init__ (from tensorflow.python.ops.init_ops) with dtype is deprecated and will be removed in a future version.\n",
            "Instructions for updating:\n",
            "Call initializer instance with the dtype argument instead of passing it to the constructor\n",
            "W0806 06:37:16.725661 140184390137728 deprecation.py:506] From /usr/local/lib/python3.6/dist-packages/tensorflow/python/ops/init_ops.py:97: calling Zeros.__init__ (from tensorflow.python.ops.init_ops) with dtype is deprecated and will be removed in a future version.\n",
            "Instructions for updating:\n",
            "Call initializer instance with the dtype argument instead of passing it to the constructor\n"
          ],
          "name": "stderr"
        },
        {
          "output_type": "stream",
          "text": [
            "Model: \"sequential\"\n",
            "_________________________________________________________________\n",
            "Layer (type)                 Output Shape              Param #   \n",
            "=================================================================\n",
            "embedding (Embedding)        (None, 10, 100)           321100    \n",
            "_________________________________________________________________\n",
            "bidirectional (Bidirectional (None, 10, 300)           301200    \n",
            "_________________________________________________________________\n",
            "dropout (Dropout)            (None, 10, 300)           0         \n",
            "_________________________________________________________________\n",
            "lstm_1 (LSTM)                (None, 100)               160400    \n",
            "_________________________________________________________________\n",
            "dense (Dense)                (None, 1605)              162105    \n",
            "_________________________________________________________________\n",
            "dense_1 (Dense)              (None, 3211)              5156866   \n",
            "=================================================================\n",
            "Total params: 6,101,671\n",
            "Trainable params: 6,101,671\n",
            "Non-trainable params: 0\n",
            "_________________________________________________________________\n",
            "None\n"
          ],
          "name": "stdout"
        }
      ]
    },
    {
      "cell_type": "code",
      "metadata": {
        "id": "AIg2f1HBxqof",
        "colab_type": "code",
        "colab": {
          "base_uri": "https://localhost:8080/",
          "height": 1000
        },
        "outputId": "a1c393a9-300f-4218-ec61-23b88f69b718"
      },
      "source": [
        " history = model.fit(predictors, label, epochs=100, verbose=1)"
      ],
      "execution_count": 7,
      "outputs": [
        {
          "output_type": "stream",
          "text": [
            "W0806 06:37:37.337766 140184390137728 deprecation.py:323] From /usr/local/lib/python3.6/dist-packages/tensorflow/python/ops/math_grad.py:1250: add_dispatch_support.<locals>.wrapper (from tensorflow.python.ops.array_ops) is deprecated and will be removed in a future version.\n",
            "Instructions for updating:\n",
            "Use tf.where in 2.0, which has the same broadcast rule as np.where\n"
          ],
          "name": "stderr"
        },
        {
          "output_type": "stream",
          "text": [
            "Epoch 1/100\n",
            "15462/15462 [==============================] - 42s 3ms/sample - loss: 6.9046 - acc: 0.0226\n",
            "Epoch 2/100\n",
            "15462/15462 [==============================] - 41s 3ms/sample - loss: 6.5019 - acc: 0.0232\n",
            "Epoch 3/100\n",
            "15462/15462 [==============================] - 41s 3ms/sample - loss: 6.3864 - acc: 0.0243\n",
            "Epoch 4/100\n",
            "15462/15462 [==============================] - 40s 3ms/sample - loss: 6.2642 - acc: 0.0314\n",
            "Epoch 5/100\n",
            "15462/15462 [==============================] - 40s 3ms/sample - loss: 6.1788 - acc: 0.0365\n",
            "Epoch 6/100\n",
            "15462/15462 [==============================] - 40s 3ms/sample - loss: 6.1004 - acc: 0.0400\n",
            "Epoch 7/100\n",
            "15462/15462 [==============================] - 40s 3ms/sample - loss: 6.0251 - acc: 0.0418\n",
            "Epoch 8/100\n",
            "15462/15462 [==============================] - 40s 3ms/sample - loss: 5.9374 - acc: 0.0451\n",
            "Epoch 9/100\n",
            "15462/15462 [==============================] - 40s 3ms/sample - loss: 5.8413 - acc: 0.0507\n",
            "Epoch 10/100\n",
            "15462/15462 [==============================] - 40s 3ms/sample - loss: 5.7308 - acc: 0.0569\n",
            "Epoch 11/100\n",
            "15462/15462 [==============================] - 40s 3ms/sample - loss: 5.6220 - acc: 0.0623\n",
            "Epoch 12/100\n",
            "15462/15462 [==============================] - 40s 3ms/sample - loss: 5.5176 - acc: 0.0673\n",
            "Epoch 13/100\n",
            "15462/15462 [==============================] - 40s 3ms/sample - loss: 5.4153 - acc: 0.0742\n",
            "Epoch 14/100\n",
            "15462/15462 [==============================] - 40s 3ms/sample - loss: 5.3099 - acc: 0.0818\n",
            "Epoch 15/100\n",
            "15462/15462 [==============================] - 40s 3ms/sample - loss: 5.2081 - acc: 0.0894\n",
            "Epoch 16/100\n",
            "15462/15462 [==============================] - 40s 3ms/sample - loss: 5.1063 - acc: 0.0951\n",
            "Epoch 17/100\n",
            "15462/15462 [==============================] - 41s 3ms/sample - loss: 5.0101 - acc: 0.1037\n",
            "Epoch 18/100\n",
            "15462/15462 [==============================] - 41s 3ms/sample - loss: 4.9122 - acc: 0.1099\n",
            "Epoch 19/100\n",
            "15462/15462 [==============================] - 41s 3ms/sample - loss: 4.8103 - acc: 0.1203\n",
            "Epoch 20/100\n",
            "15462/15462 [==============================] - 41s 3ms/sample - loss: 4.7101 - acc: 0.1275\n",
            "Epoch 21/100\n",
            "15462/15462 [==============================] - 40s 3ms/sample - loss: 4.6127 - acc: 0.1383\n",
            "Epoch 22/100\n",
            "15462/15462 [==============================] - 40s 3ms/sample - loss: 4.5108 - acc: 0.1502\n",
            "Epoch 23/100\n",
            "15462/15462 [==============================] - 40s 3ms/sample - loss: 4.4070 - acc: 0.1605\n",
            "Epoch 24/100\n",
            "15462/15462 [==============================] - 41s 3ms/sample - loss: 4.3057 - acc: 0.1714\n",
            "Epoch 25/100\n",
            "15462/15462 [==============================] - 41s 3ms/sample - loss: 4.1981 - acc: 0.1867\n",
            "Epoch 26/100\n",
            "15462/15462 [==============================] - 40s 3ms/sample - loss: 4.1002 - acc: 0.1986\n",
            "Epoch 27/100\n",
            "15462/15462 [==============================] - 40s 3ms/sample - loss: 4.0031 - acc: 0.2113\n",
            "Epoch 28/100\n",
            "15462/15462 [==============================] - 41s 3ms/sample - loss: 3.9001 - acc: 0.2268\n",
            "Epoch 29/100\n",
            "15462/15462 [==============================] - 41s 3ms/sample - loss: 3.8117 - acc: 0.2417\n",
            "Epoch 30/100\n",
            "15462/15462 [==============================] - 40s 3ms/sample - loss: 3.7019 - acc: 0.2598\n",
            "Epoch 31/100\n",
            "15462/15462 [==============================] - 40s 3ms/sample - loss: 3.6174 - acc: 0.2782\n",
            "Epoch 32/100\n",
            "15462/15462 [==============================] - 40s 3ms/sample - loss: 3.5286 - acc: 0.2895\n",
            "Epoch 33/100\n",
            "15462/15462 [==============================] - 41s 3ms/sample - loss: 3.4285 - acc: 0.3161\n",
            "Epoch 34/100\n",
            "15462/15462 [==============================] - 40s 3ms/sample - loss: 3.3477 - acc: 0.3367\n",
            "Epoch 35/100\n",
            "15462/15462 [==============================] - 40s 3ms/sample - loss: 3.2639 - acc: 0.3543\n",
            "Epoch 36/100\n",
            "15462/15462 [==============================] - 40s 3ms/sample - loss: 3.1866 - acc: 0.3741\n",
            "Epoch 37/100\n",
            "15462/15462 [==============================] - 40s 3ms/sample - loss: 3.1085 - acc: 0.3884\n",
            "Epoch 38/100\n",
            "15462/15462 [==============================] - 40s 3ms/sample - loss: 3.0368 - acc: 0.4054\n",
            "Epoch 39/100\n",
            "15462/15462 [==============================] - 40s 3ms/sample - loss: 2.9633 - acc: 0.4220\n",
            "Epoch 40/100\n",
            "15462/15462 [==============================] - 40s 3ms/sample - loss: 2.9038 - acc: 0.4360\n",
            "Epoch 41/100\n",
            "15462/15462 [==============================] - 40s 3ms/sample - loss: 2.8254 - acc: 0.4549\n",
            "Epoch 42/100\n",
            "15462/15462 [==============================] - 40s 3ms/sample - loss: 2.7685 - acc: 0.4611\n",
            "Epoch 43/100\n",
            "15462/15462 [==============================] - 40s 3ms/sample - loss: 2.7101 - acc: 0.4780\n",
            "Epoch 44/100\n",
            "15462/15462 [==============================] - 40s 3ms/sample - loss: 2.6448 - acc: 0.4880\n",
            "Epoch 45/100\n",
            "15462/15462 [==============================] - 40s 3ms/sample - loss: 2.5755 - acc: 0.5063\n",
            "Epoch 46/100\n",
            "15462/15462 [==============================] - 40s 3ms/sample - loss: 2.5275 - acc: 0.5211\n",
            "Epoch 47/100\n",
            "15462/15462 [==============================] - 40s 3ms/sample - loss: 2.4770 - acc: 0.5307\n",
            "Epoch 48/100\n",
            "15462/15462 [==============================] - 40s 3ms/sample - loss: 2.4231 - acc: 0.5415\n",
            "Epoch 49/100\n",
            "15462/15462 [==============================] - 40s 3ms/sample - loss: 2.3736 - acc: 0.5503\n",
            "Epoch 50/100\n",
            "15462/15462 [==============================] - 40s 3ms/sample - loss: 2.3234 - acc: 0.5638\n",
            "Epoch 51/100\n",
            "15462/15462 [==============================] - 40s 3ms/sample - loss: 2.2720 - acc: 0.5781\n",
            "Epoch 52/100\n",
            "15462/15462 [==============================] - 40s 3ms/sample - loss: 2.2275 - acc: 0.5871\n",
            "Epoch 53/100\n",
            "15462/15462 [==============================] - 40s 3ms/sample - loss: 2.1946 - acc: 0.5936\n",
            "Epoch 54/100\n",
            "15462/15462 [==============================] - 40s 3ms/sample - loss: 2.1533 - acc: 0.6008\n",
            "Epoch 55/100\n",
            "15462/15462 [==============================] - 40s 3ms/sample - loss: 2.1049 - acc: 0.6118\n",
            "Epoch 56/100\n",
            "15462/15462 [==============================] - 40s 3ms/sample - loss: 2.0717 - acc: 0.6182\n",
            "Epoch 57/100\n",
            "15462/15462 [==============================] - 40s 3ms/sample - loss: 2.0381 - acc: 0.6278\n",
            "Epoch 58/100\n",
            "15462/15462 [==============================] - 40s 3ms/sample - loss: 1.9906 - acc: 0.6367\n",
            "Epoch 59/100\n",
            "15462/15462 [==============================] - 40s 3ms/sample - loss: 1.9554 - acc: 0.6445\n",
            "Epoch 60/100\n",
            "15462/15462 [==============================] - 40s 3ms/sample - loss: 1.9211 - acc: 0.6517\n",
            "Epoch 61/100\n",
            "15462/15462 [==============================] - 40s 3ms/sample - loss: 1.8848 - acc: 0.6628\n",
            "Epoch 62/100\n",
            "15462/15462 [==============================] - 40s 3ms/sample - loss: 1.8531 - acc: 0.6676\n",
            "Epoch 63/100\n",
            "15462/15462 [==============================] - 40s 3ms/sample - loss: 1.8203 - acc: 0.6727\n",
            "Epoch 64/100\n",
            "15462/15462 [==============================] - 40s 3ms/sample - loss: 1.7874 - acc: 0.6838\n",
            "Epoch 65/100\n",
            "15462/15462 [==============================] - 40s 3ms/sample - loss: 1.7620 - acc: 0.6852\n",
            "Epoch 66/100\n",
            "15462/15462 [==============================] - 40s 3ms/sample - loss: 1.7399 - acc: 0.6920\n",
            "Epoch 67/100\n",
            "15462/15462 [==============================] - 40s 3ms/sample - loss: 1.7053 - acc: 0.6992\n",
            "Epoch 68/100\n",
            "15462/15462 [==============================] - 40s 3ms/sample - loss: 1.6805 - acc: 0.7025\n",
            "Epoch 69/100\n",
            "15462/15462 [==============================] - 40s 3ms/sample - loss: 1.6505 - acc: 0.7089\n",
            "Epoch 70/100\n",
            "15462/15462 [==============================] - 40s 3ms/sample - loss: 1.6373 - acc: 0.7101\n",
            "Epoch 71/100\n",
            "15462/15462 [==============================] - 40s 3ms/sample - loss: 1.6278 - acc: 0.7110\n",
            "Epoch 72/100\n",
            "15462/15462 [==============================] - 40s 3ms/sample - loss: 1.5872 - acc: 0.7238\n",
            "Epoch 73/100\n",
            "15462/15462 [==============================] - 40s 3ms/sample - loss: 1.5496 - acc: 0.7340\n",
            "Epoch 74/100\n",
            "15462/15462 [==============================] - 40s 3ms/sample - loss: 1.5426 - acc: 0.7258\n",
            "Epoch 75/100\n",
            "15462/15462 [==============================] - 40s 3ms/sample - loss: 1.5266 - acc: 0.7322\n",
            "Epoch 76/100\n",
            "15462/15462 [==============================] - 40s 3ms/sample - loss: 1.5100 - acc: 0.7374\n",
            "Epoch 77/100\n",
            "15462/15462 [==============================] - 40s 3ms/sample - loss: 1.4817 - acc: 0.7419\n",
            "Epoch 78/100\n",
            "15462/15462 [==============================] - 40s 3ms/sample - loss: 1.4573 - acc: 0.7490\n",
            "Epoch 79/100\n",
            "15462/15462 [==============================] - 40s 3ms/sample - loss: 1.4370 - acc: 0.7529\n",
            "Epoch 80/100\n",
            "15462/15462 [==============================] - 40s 3ms/sample - loss: 1.4252 - acc: 0.7527\n",
            "Epoch 81/100\n",
            "15462/15462 [==============================] - 40s 3ms/sample - loss: 1.4224 - acc: 0.7524\n",
            "Epoch 82/100\n",
            "15462/15462 [==============================] - 40s 3ms/sample - loss: 1.4000 - acc: 0.7565\n",
            "Epoch 83/100\n",
            "15462/15462 [==============================] - 40s 3ms/sample - loss: 1.3695 - acc: 0.7636\n",
            "Epoch 84/100\n",
            "15462/15462 [==============================] - 40s 3ms/sample - loss: 1.3350 - acc: 0.7727\n",
            "Epoch 85/100\n",
            "15462/15462 [==============================] - 40s 3ms/sample - loss: 1.3443 - acc: 0.7682\n",
            "Epoch 86/100\n",
            "15462/15462 [==============================] - 40s 3ms/sample - loss: 1.3298 - acc: 0.7717\n",
            "Epoch 87/100\n",
            "15462/15462 [==============================] - 40s 3ms/sample - loss: 1.3152 - acc: 0.7723\n",
            "Epoch 88/100\n",
            "15462/15462 [==============================] - 40s 3ms/sample - loss: 1.3031 - acc: 0.7767\n",
            "Epoch 89/100\n",
            "15462/15462 [==============================] - 40s 3ms/sample - loss: 1.2795 - acc: 0.7782\n",
            "Epoch 90/100\n",
            "15462/15462 [==============================] - 40s 3ms/sample - loss: 1.2745 - acc: 0.7768\n",
            "Epoch 91/100\n",
            "15462/15462 [==============================] - 40s 3ms/sample - loss: 1.2711 - acc: 0.7781\n",
            "Epoch 92/100\n",
            "15462/15462 [==============================] - 40s 3ms/sample - loss: 1.2531 - acc: 0.7809\n",
            "Epoch 93/100\n",
            "15462/15462 [==============================] - 40s 3ms/sample - loss: 1.2520 - acc: 0.7825\n",
            "Epoch 94/100\n",
            "15462/15462 [==============================] - 40s 3ms/sample - loss: 1.2299 - acc: 0.7831\n",
            "Epoch 95/100\n",
            "15462/15462 [==============================] - 40s 3ms/sample - loss: 1.2005 - acc: 0.7930\n",
            "Epoch 96/100\n",
            "15462/15462 [==============================] - 40s 3ms/sample - loss: 1.1943 - acc: 0.7912\n",
            "Epoch 97/100\n",
            "15462/15462 [==============================] - 40s 3ms/sample - loss: 1.1903 - acc: 0.7921\n",
            "Epoch 98/100\n",
            "15462/15462 [==============================] - 40s 3ms/sample - loss: 1.1753 - acc: 0.7947\n",
            "Epoch 99/100\n",
            "15462/15462 [==============================] - 40s 3ms/sample - loss: 1.1651 - acc: 0.7986\n",
            "Epoch 100/100\n",
            "15462/15462 [==============================] - 40s 3ms/sample - loss: 1.1600 - acc: 0.7965\n"
          ],
          "name": "stdout"
        }
      ]
    },
    {
      "cell_type": "code",
      "metadata": {
        "id": "1fXTEO3GJ282",
        "colab_type": "code",
        "colab": {
          "base_uri": "https://localhost:8080/",
          "height": 545
        },
        "outputId": "3c57eab6-16e0-49d9-de1c-0bd92342bc38"
      },
      "source": [
        "import matplotlib.pyplot as plt\n",
        "acc = history.history['acc']\n",
        "loss = history.history['loss']\n",
        "\n",
        "epochs = range(len(acc))\n",
        "\n",
        "plt.plot(epochs, acc, 'b', label='Training accuracy')\n",
        "plt.title('Training accuracy')\n",
        "\n",
        "plt.figure()\n",
        "\n",
        "plt.plot(epochs, loss, 'b', label='Training Loss')\n",
        "plt.title('Training loss')\n",
        "plt.legend()\n",
        "\n",
        "plt.show()"
      ],
      "execution_count": 8,
      "outputs": [
        {
          "output_type": "display_data",
          "data": {
            "image/png": "[encoded data removed]",
            "text/plain": [
              "<Figure size 432x288 with 1 Axes>"
            ]
          },
          "metadata": {
            "tags": []
          }
        },
        {
          "output_type": "display_data",
          "data": {
            "image/png": "[encoded data removed]",
            "text/plain": [
              "<Figure size 432x288 with 1 Axes>"
            ]
          },
          "metadata": {
            "tags": []
          }
        }
      ]
    },
    {
      "cell_type": "code",
      "metadata": {
        "id": "6Vc6PHgxa6Hm",
        "colab_type": "code",
        "colab": {
          "base_uri": "https://localhost:8080/",
          "height": 54
        },
        "outputId": "b6ab3e9d-bd3e-466e-e5a7-4d1dac657063"
      },
      "source": [
        "seed_text = \"Help me Obi Wan Kenobi, you're my only hope\"\n",
        "next_words = 100\n",
        "  \n",
        "for _ in range(next_words):\n",
        "\ttoken_list = tokenizer.texts_to_sequences([seed_text])[0]\n",
        "\ttoken_list = pad_sequences([token_list], maxlen=max_sequence_len-1, padding='pre')\n",
        "\tpredicted = model.predict_classes(token_list, verbose=0)\n",
        "\toutput_word = \"\"\n",
        "\tfor word, index in tokenizer.word_index.items():\n",
        "\t\tif index == predicted:\n",
        "\t\t\toutput_word = word\n",
        "\t\t\tbreak\n",
        "\tseed_text += \" \" + output_word\n",
        "print(seed_text)"
      ],
      "execution_count": 9,
      "outputs": [
        {
          "output_type": "stream",
          "text": [
            "Help me Obi Wan Kenobi, you're my only hope control your love of brow chase ill new ' more blest might ' be date lend praise show thee men ' now be too strong painted part to show me be slain ' be men's from it rage shall straight words rage rage ' made bear woe new days new words ' new rage made new dearth confounds from him me ' still alone still swearing alone so wit find the loss for that thy view were must away be delight light back confounds back back bright ' still back confounds him for love's woe ' ' still be confounds\n"
          ],
          "name": "stdout"
        }
      ]
    },
    {
      "cell_type": "code",
      "metadata": {
        "id": "iL5AO-xD0DmP",
        "colab_type": "code",
        "colab": {}
      },
      "source": [
        ""
      ],
      "execution_count": 0,
      "outputs": []
    }
  ]
}